{
  "cells": [
    {
      "cell_type": "markdown",
      "metadata": {
        "id": "view-in-github",
        "colab_type": "text"
      },
      "source": [
        "<a href=\"https://colab.research.google.com/github/mallowww/level-salary/blob/main/salaries_predict.ipynb\" target=\"_parent\"><img src=\"https://colab.research.google.com/assets/colab-badge.svg\" alt=\"Open In Colab\"/></a>"
      ]
    },
    {
      "cell_type": "code",
      "execution_count": null,
      "metadata": {
        "id": "CVG3L_xvzZ6p"
      },
      "outputs": [],
      "source": [
        "# !pip uninstall pandas-profiling -y #uninstall it 1st "
      ]
    },
    {
      "cell_type": "code",
      "execution_count": null,
      "metadata": {
        "id": "lPBSrmOwzggh"
      },
      "outputs": [],
      "source": [
        "# !pip install pandas-profiling[notebook,html] #reinstall pandas-profiling"
      ]
    },
    {
      "cell_type": "code",
      "execution_count": null,
      "metadata": {
        "id": "-GLPa8fgBkt3"
      },
      "outputs": [],
      "source": [
        "# from google.colab import drive\n",
        "# drive.mount('/content/drive')"
      ]
    },
    {
      "cell_type": "code",
      "execution_count": null,
      "metadata": {
        "id": "JHdL5MADzgxi"
      },
      "outputs": [],
      "source": [
        "import pandas as pd #import\n",
        "from pandas_profiling import ProfileReport"
      ]
    },
    {
      "cell_type": "code",
      "execution_count": null,
      "metadata": {
        "id": "4nyxAfSrzlf4"
      },
      "outputs": [],
      "source": [
        "from google.colab import drive #connect to your drive\n",
        "# df = pd.read_csv(\"/content/drive/MyDrive/DS_BDA_65/Levels_Fyi_Salary_Data.csv\")\n",
        "df = pd.read_csv(\"https://raw.githubusercontent.com/mallowww/level-salary/main/Levels_Fyi_Salary_Data.csv\")"
      ]
    },
    {
      "cell_type": "code",
      "execution_count": null,
      "metadata": {
        "colab": {
          "base_uri": "https://localhost:8080/"
        },
        "id": "ZtXhDbvjfE7Q",
        "outputId": "9697316d-ecea-4eb4-dbd2-4f3c3567b0e0"
      },
      "outputs": [
        {
          "data": {
            "text/plain": [
              "0"
            ]
          },
          "execution_count": 122,
          "metadata": {},
          "output_type": "execute_result"
        }
      ],
      "source": [
        "df.duplicated().sum()"
      ]
    },
    {
      "cell_type": "code",
      "execution_count": null,
      "metadata": {
        "colab": {
          "base_uri": "https://localhost:8080/"
        },
        "id": "4R68PBMKgf1C",
        "outputId": "cd9e4fca-b3af-4f03-f16f-a6e39b068b27"
      },
      "outputs": [
        {
          "name": "stdout",
          "output_type": "stream",
          "text": [
            "<class 'pandas.core.frame.DataFrame'>\n",
            "RangeIndex: 62642 entries, 0 to 62641\n",
            "Data columns (total 29 columns):\n",
            " #   Column                   Non-Null Count  Dtype  \n",
            "---  ------                   --------------  -----  \n",
            " 0   timestamp                62642 non-null  object \n",
            " 1   company                  62637 non-null  object \n",
            " 2   level                    62523 non-null  object \n",
            " 3   title                    62642 non-null  object \n",
            " 4   totalyearlycompensation  62642 non-null  int64  \n",
            " 5   location                 62642 non-null  object \n",
            " 6   yearsofexperience        62642 non-null  float64\n",
            " 7   yearsatcompany           62642 non-null  float64\n",
            " 8   tag                      61788 non-null  object \n",
            " 9   basesalary               62642 non-null  float64\n",
            " 10  stockgrantvalue          62642 non-null  float64\n",
            " 11  bonus                    62642 non-null  float64\n",
            " 12  gender                   43102 non-null  object \n",
            " 13  otherdetails             40137 non-null  object \n",
            " 14  cityid                   62642 non-null  int64  \n",
            " 15  dmaid                    62640 non-null  float64\n",
            " 16  rowNumber                62642 non-null  int64  \n",
            " 17  Masters_Degree           62642 non-null  int64  \n",
            " 18  Bachelors_Degree         62642 non-null  int64  \n",
            " 19  Doctorate_Degree         62642 non-null  int64  \n",
            " 20  Highschool               62642 non-null  int64  \n",
            " 21  Some_College             62642 non-null  int64  \n",
            " 22  Race_Asian               62642 non-null  int64  \n",
            " 23  Race_White               62642 non-null  int64  \n",
            " 24  Race_Two_Or_More         62642 non-null  int64  \n",
            " 25  Race_Black               62642 non-null  int64  \n",
            " 26  Race_Hispanic            62642 non-null  int64  \n",
            " 27  Race                     22427 non-null  object \n",
            " 28  Education                30370 non-null  object \n",
            "dtypes: float64(6), int64(13), object(10)\n",
            "memory usage: 13.9+ MB\n"
          ]
        }
      ],
      "source": [
        "df.info()"
      ]
    },
    {
      "cell_type": "code",
      "execution_count": null,
      "metadata": {
        "colab": {
          "base_uri": "https://localhost:8080/"
        },
        "id": "nx7YOP88xhEn",
        "outputId": "3947d0cc-063a-4957-8774-f0a4a169420c"
      },
      "outputs": [
        {
          "data": {
            "text/plain": [
              "timestamp                   object\n",
              "company                     object\n",
              "level                       object\n",
              "title                       object\n",
              "totalyearlycompensation      int64\n",
              "location                    object\n",
              "yearsofexperience          float64\n",
              "yearsatcompany             float64\n",
              "tag                         object\n",
              "basesalary                 float64\n",
              "stockgrantvalue            float64\n",
              "bonus                      float64\n",
              "gender                      object\n",
              "otherdetails                object\n",
              "cityid                       int64\n",
              "dmaid                      float64\n",
              "rowNumber                    int64\n",
              "Masters_Degree               int64\n",
              "Bachelors_Degree             int64\n",
              "Doctorate_Degree             int64\n",
              "Highschool                   int64\n",
              "Some_College                 int64\n",
              "Race_Asian                   int64\n",
              "Race_White                   int64\n",
              "Race_Two_Or_More             int64\n",
              "Race_Black                   int64\n",
              "Race_Hispanic                int64\n",
              "Race                        object\n",
              "Education                   object\n",
              "dtype: object"
            ]
          },
          "execution_count": 124,
          "metadata": {},
          "output_type": "execute_result"
        }
      ],
      "source": [
        "df.dtypes"
      ]
    },
    {
      "cell_type": "code",
      "execution_count": null,
      "metadata": {
        "colab": {
          "base_uri": "https://localhost:8080/"
        },
        "id": "j1na62r00TD3",
        "outputId": "08667042-4010-447e-8ce5-635fdaa9ff7d"
      },
      "outputs": [
        {
          "data": {
            "text/plain": [
              "(62642, 29)"
            ]
          },
          "execution_count": 125,
          "metadata": {},
          "output_type": "execute_result"
        }
      ],
      "source": [
        "df.shape"
      ]
    },
    {
      "cell_type": "code",
      "execution_count": null,
      "metadata": {
        "colab": {
          "base_uri": "https://localhost:8080/"
        },
        "id": "JMp8A9FiIM-c",
        "outputId": "753a394f-69a4-43d0-f2c1-c71841ff8cee"
      },
      "outputs": [
        {
          "data": {
            "text/plain": [
              "timestamp                      0\n",
              "company                        5\n",
              "level                        119\n",
              "title                          0\n",
              "totalyearlycompensation        0\n",
              "location                       0\n",
              "yearsofexperience              0\n",
              "yearsatcompany                 0\n",
              "tag                          854\n",
              "basesalary                     0\n",
              "stockgrantvalue                0\n",
              "bonus                          0\n",
              "gender                     19540\n",
              "otherdetails               22505\n",
              "cityid                         0\n",
              "dmaid                          2\n",
              "rowNumber                      0\n",
              "Masters_Degree                 0\n",
              "Bachelors_Degree               0\n",
              "Doctorate_Degree               0\n",
              "Highschool                     0\n",
              "Some_College                   0\n",
              "Race_Asian                     0\n",
              "Race_White                     0\n",
              "Race_Two_Or_More               0\n",
              "Race_Black                     0\n",
              "Race_Hispanic                  0\n",
              "Race                       40215\n",
              "Education                  32272\n",
              "dtype: int64"
            ]
          },
          "execution_count": 126,
          "metadata": {},
          "output_type": "execute_result"
        }
      ],
      "source": [
        "df.isnull().sum() #now we can see what is null and we can identify which is numerical or categorical"
      ]
    },
    {
      "cell_type": "code",
      "execution_count": null,
      "metadata": {
        "colab": {
          "base_uri": "https://localhost:8080/"
        },
        "id": "BU8iW3M7IUeg",
        "outputId": "1981df2b-fcb3-42a1-c37d-a1f93c609f0a"
      },
      "outputs": [
        {
          "data": {
            "text/plain": [
              "0"
            ]
          },
          "execution_count": 127,
          "metadata": {},
          "output_type": "execute_result"
        }
      ],
      "source": [
        "df.duplicated().sum()"
      ]
    },
    {
      "cell_type": "code",
      "execution_count": null,
      "metadata": {
        "id": "FEf0Z-pIi7Ja"
      },
      "outputs": [],
      "source": [
        "to_keep =['company','title','totalyearlycompensation',\n",
        "          'location','yearsofexperience','yearsatcompany','tag','basesalary',\n",
        "          'stockgrantvalue','bonus','gender','Masters_Degree','Masters_Degree','Bachelors_Degree','Doctorate_Degree','Highschool','Some_College'\n",
        "          ]"
      ]
    },
    {
      "cell_type": "code",
      "execution_count": null,
      "metadata": {
        "colab": {
          "base_uri": "https://localhost:8080/",
          "height": 748
        },
        "id": "lO98pVX6m3CO",
        "outputId": "146ebbef-92b0-4278-967d-4ed0315c4531"
      },
      "outputs": [
        {
          "data": {
            "text/html": [
              "\n",
              "  <div id=\"df-976c93c3-65e2-4dda-b437-f88fcee1eb2d\">\n",
              "    <div class=\"colab-df-container\">\n",
              "      <div>\n",
              "<style scoped>\n",
              "    .dataframe tbody tr th:only-of-type {\n",
              "        vertical-align: middle;\n",
              "    }\n",
              "\n",
              "    .dataframe tbody tr th {\n",
              "        vertical-align: top;\n",
              "    }\n",
              "\n",
              "    .dataframe thead th {\n",
              "        text-align: right;\n",
              "    }\n",
              "</style>\n",
              "<table border=\"1\" class=\"dataframe\">\n",
              "  <thead>\n",
              "    <tr style=\"text-align: right;\">\n",
              "      <th></th>\n",
              "      <th>company</th>\n",
              "      <th>title</th>\n",
              "      <th>totalyearlycompensation</th>\n",
              "      <th>location</th>\n",
              "      <th>yearsofexperience</th>\n",
              "      <th>yearsatcompany</th>\n",
              "      <th>tag</th>\n",
              "      <th>basesalary</th>\n",
              "      <th>stockgrantvalue</th>\n",
              "      <th>bonus</th>\n",
              "      <th>gender</th>\n",
              "      <th>Masters_Degree</th>\n",
              "      <th>Masters_Degree</th>\n",
              "      <th>Bachelors_Degree</th>\n",
              "      <th>Doctorate_Degree</th>\n",
              "      <th>Highschool</th>\n",
              "      <th>Some_College</th>\n",
              "    </tr>\n",
              "  </thead>\n",
              "  <tbody>\n",
              "    <tr>\n",
              "      <th>0</th>\n",
              "      <td>Oracle</td>\n",
              "      <td>Product Manager</td>\n",
              "      <td>127000</td>\n",
              "      <td>Redwood City, CA</td>\n",
              "      <td>1.5</td>\n",
              "      <td>1.5</td>\n",
              "      <td>NaN</td>\n",
              "      <td>107000.0</td>\n",
              "      <td>20000.0</td>\n",
              "      <td>10000.0</td>\n",
              "      <td>NaN</td>\n",
              "      <td>0</td>\n",
              "      <td>0</td>\n",
              "      <td>0</td>\n",
              "      <td>0</td>\n",
              "      <td>0</td>\n",
              "      <td>0</td>\n",
              "    </tr>\n",
              "    <tr>\n",
              "      <th>1</th>\n",
              "      <td>eBay</td>\n",
              "      <td>Software Engineer</td>\n",
              "      <td>100000</td>\n",
              "      <td>San Francisco, CA</td>\n",
              "      <td>5.0</td>\n",
              "      <td>3.0</td>\n",
              "      <td>NaN</td>\n",
              "      <td>0.0</td>\n",
              "      <td>0.0</td>\n",
              "      <td>0.0</td>\n",
              "      <td>NaN</td>\n",
              "      <td>0</td>\n",
              "      <td>0</td>\n",
              "      <td>0</td>\n",
              "      <td>0</td>\n",
              "      <td>0</td>\n",
              "      <td>0</td>\n",
              "    </tr>\n",
              "    <tr>\n",
              "      <th>2</th>\n",
              "      <td>Amazon</td>\n",
              "      <td>Product Manager</td>\n",
              "      <td>310000</td>\n",
              "      <td>Seattle, WA</td>\n",
              "      <td>8.0</td>\n",
              "      <td>0.0</td>\n",
              "      <td>NaN</td>\n",
              "      <td>155000.0</td>\n",
              "      <td>0.0</td>\n",
              "      <td>0.0</td>\n",
              "      <td>NaN</td>\n",
              "      <td>0</td>\n",
              "      <td>0</td>\n",
              "      <td>0</td>\n",
              "      <td>0</td>\n",
              "      <td>0</td>\n",
              "      <td>0</td>\n",
              "    </tr>\n",
              "    <tr>\n",
              "      <th>3</th>\n",
              "      <td>Apple</td>\n",
              "      <td>Software Engineering Manager</td>\n",
              "      <td>372000</td>\n",
              "      <td>Sunnyvale, CA</td>\n",
              "      <td>7.0</td>\n",
              "      <td>5.0</td>\n",
              "      <td>NaN</td>\n",
              "      <td>157000.0</td>\n",
              "      <td>180000.0</td>\n",
              "      <td>35000.0</td>\n",
              "      <td>NaN</td>\n",
              "      <td>0</td>\n",
              "      <td>0</td>\n",
              "      <td>0</td>\n",
              "      <td>0</td>\n",
              "      <td>0</td>\n",
              "      <td>0</td>\n",
              "    </tr>\n",
              "    <tr>\n",
              "      <th>4</th>\n",
              "      <td>Microsoft</td>\n",
              "      <td>Software Engineer</td>\n",
              "      <td>157000</td>\n",
              "      <td>Mountain View, CA</td>\n",
              "      <td>5.0</td>\n",
              "      <td>3.0</td>\n",
              "      <td>NaN</td>\n",
              "      <td>0.0</td>\n",
              "      <td>0.0</td>\n",
              "      <td>0.0</td>\n",
              "      <td>NaN</td>\n",
              "      <td>0</td>\n",
              "      <td>0</td>\n",
              "      <td>0</td>\n",
              "      <td>0</td>\n",
              "      <td>0</td>\n",
              "      <td>0</td>\n",
              "    </tr>\n",
              "    <tr>\n",
              "      <th>...</th>\n",
              "      <td>...</td>\n",
              "      <td>...</td>\n",
              "      <td>...</td>\n",
              "      <td>...</td>\n",
              "      <td>...</td>\n",
              "      <td>...</td>\n",
              "      <td>...</td>\n",
              "      <td>...</td>\n",
              "      <td>...</td>\n",
              "      <td>...</td>\n",
              "      <td>...</td>\n",
              "      <td>...</td>\n",
              "      <td>...</td>\n",
              "      <td>...</td>\n",
              "      <td>...</td>\n",
              "      <td>...</td>\n",
              "      <td>...</td>\n",
              "    </tr>\n",
              "    <tr>\n",
              "      <th>62637</th>\n",
              "      <td>Google</td>\n",
              "      <td>Software Engineer</td>\n",
              "      <td>327000</td>\n",
              "      <td>Seattle, WA</td>\n",
              "      <td>10.0</td>\n",
              "      <td>1.0</td>\n",
              "      <td>Distributed Systems (Back-End)</td>\n",
              "      <td>155000.0</td>\n",
              "      <td>150000.0</td>\n",
              "      <td>22000.0</td>\n",
              "      <td>NaN</td>\n",
              "      <td>0</td>\n",
              "      <td>0</td>\n",
              "      <td>0</td>\n",
              "      <td>0</td>\n",
              "      <td>0</td>\n",
              "      <td>0</td>\n",
              "    </tr>\n",
              "    <tr>\n",
              "      <th>62638</th>\n",
              "      <td>Microsoft</td>\n",
              "      <td>Software Engineer</td>\n",
              "      <td>237000</td>\n",
              "      <td>Redmond, WA</td>\n",
              "      <td>2.0</td>\n",
              "      <td>2.0</td>\n",
              "      <td>Full Stack</td>\n",
              "      <td>146900.0</td>\n",
              "      <td>73200.0</td>\n",
              "      <td>16000.0</td>\n",
              "      <td>NaN</td>\n",
              "      <td>0</td>\n",
              "      <td>0</td>\n",
              "      <td>0</td>\n",
              "      <td>0</td>\n",
              "      <td>0</td>\n",
              "      <td>0</td>\n",
              "    </tr>\n",
              "    <tr>\n",
              "      <th>62639</th>\n",
              "      <td>MSFT</td>\n",
              "      <td>Software Engineer</td>\n",
              "      <td>220000</td>\n",
              "      <td>Seattle, WA</td>\n",
              "      <td>14.0</td>\n",
              "      <td>12.0</td>\n",
              "      <td>Full Stack</td>\n",
              "      <td>157000.0</td>\n",
              "      <td>25000.0</td>\n",
              "      <td>20000.0</td>\n",
              "      <td>NaN</td>\n",
              "      <td>0</td>\n",
              "      <td>0</td>\n",
              "      <td>0</td>\n",
              "      <td>0</td>\n",
              "      <td>0</td>\n",
              "      <td>0</td>\n",
              "    </tr>\n",
              "    <tr>\n",
              "      <th>62640</th>\n",
              "      <td>Salesforce</td>\n",
              "      <td>Software Engineer</td>\n",
              "      <td>280000</td>\n",
              "      <td>San Francisco, CA</td>\n",
              "      <td>8.0</td>\n",
              "      <td>4.0</td>\n",
              "      <td>iOS</td>\n",
              "      <td>194688.0</td>\n",
              "      <td>57000.0</td>\n",
              "      <td>29000.0</td>\n",
              "      <td>NaN</td>\n",
              "      <td>0</td>\n",
              "      <td>0</td>\n",
              "      <td>0</td>\n",
              "      <td>0</td>\n",
              "      <td>0</td>\n",
              "      <td>0</td>\n",
              "    </tr>\n",
              "    <tr>\n",
              "      <th>62641</th>\n",
              "      <td>apple</td>\n",
              "      <td>Software Engineer</td>\n",
              "      <td>200000</td>\n",
              "      <td>Sunnyvale, CA</td>\n",
              "      <td>0.0</td>\n",
              "      <td>0.0</td>\n",
              "      <td>ML / AI</td>\n",
              "      <td>155000.0</td>\n",
              "      <td>27000.0</td>\n",
              "      <td>19000.0</td>\n",
              "      <td>Male</td>\n",
              "      <td>0</td>\n",
              "      <td>0</td>\n",
              "      <td>0</td>\n",
              "      <td>0</td>\n",
              "      <td>0</td>\n",
              "      <td>0</td>\n",
              "    </tr>\n",
              "  </tbody>\n",
              "</table>\n",
              "<p>62637 rows × 17 columns</p>\n",
              "</div>\n",
              "      <button class=\"colab-df-convert\" onclick=\"convertToInteractive('df-976c93c3-65e2-4dda-b437-f88fcee1eb2d')\"\n",
              "              title=\"Convert this dataframe to an interactive table.\"\n",
              "              style=\"display:none;\">\n",
              "        \n",
              "  <svg xmlns=\"http://www.w3.org/2000/svg\" height=\"24px\"viewBox=\"0 0 24 24\"\n",
              "       width=\"24px\">\n",
              "    <path d=\"M0 0h24v24H0V0z\" fill=\"none\"/>\n",
              "    <path d=\"M18.56 5.44l.94 2.06.94-2.06 2.06-.94-2.06-.94-.94-2.06-.94 2.06-2.06.94zm-11 1L8.5 8.5l.94-2.06 2.06-.94-2.06-.94L8.5 2.5l-.94 2.06-2.06.94zm10 10l.94 2.06.94-2.06 2.06-.94-2.06-.94-.94-2.06-.94 2.06-2.06.94z\"/><path d=\"M17.41 7.96l-1.37-1.37c-.4-.4-.92-.59-1.43-.59-.52 0-1.04.2-1.43.59L10.3 9.45l-7.72 7.72c-.78.78-.78 2.05 0 2.83L4 21.41c.39.39.9.59 1.41.59.51 0 1.02-.2 1.41-.59l7.78-7.78 2.81-2.81c.8-.78.8-2.07 0-2.86zM5.41 20L4 18.59l7.72-7.72 1.47 1.35L5.41 20z\"/>\n",
              "  </svg>\n",
              "      </button>\n",
              "      \n",
              "  <style>\n",
              "    .colab-df-container {\n",
              "      display:flex;\n",
              "      flex-wrap:wrap;\n",
              "      gap: 12px;\n",
              "    }\n",
              "\n",
              "    .colab-df-convert {\n",
              "      background-color: #E8F0FE;\n",
              "      border: none;\n",
              "      border-radius: 50%;\n",
              "      cursor: pointer;\n",
              "      display: none;\n",
              "      fill: #1967D2;\n",
              "      height: 32px;\n",
              "      padding: 0 0 0 0;\n",
              "      width: 32px;\n",
              "    }\n",
              "\n",
              "    .colab-df-convert:hover {\n",
              "      background-color: #E2EBFA;\n",
              "      box-shadow: 0px 1px 2px rgba(60, 64, 67, 0.3), 0px 1px 3px 1px rgba(60, 64, 67, 0.15);\n",
              "      fill: #174EA6;\n",
              "    }\n",
              "\n",
              "    [theme=dark] .colab-df-convert {\n",
              "      background-color: #3B4455;\n",
              "      fill: #D2E3FC;\n",
              "    }\n",
              "\n",
              "    [theme=dark] .colab-df-convert:hover {\n",
              "      background-color: #434B5C;\n",
              "      box-shadow: 0px 1px 3px 1px rgba(0, 0, 0, 0.15);\n",
              "      filter: drop-shadow(0px 1px 2px rgba(0, 0, 0, 0.3));\n",
              "      fill: #FFFFFF;\n",
              "    }\n",
              "  </style>\n",
              "\n",
              "      <script>\n",
              "        const buttonEl =\n",
              "          document.querySelector('#df-976c93c3-65e2-4dda-b437-f88fcee1eb2d button.colab-df-convert');\n",
              "        buttonEl.style.display =\n",
              "          google.colab.kernel.accessAllowed ? 'block' : 'none';\n",
              "\n",
              "        async function convertToInteractive(key) {\n",
              "          const element = document.querySelector('#df-976c93c3-65e2-4dda-b437-f88fcee1eb2d');\n",
              "          const dataTable =\n",
              "            await google.colab.kernel.invokeFunction('convertToInteractive',\n",
              "                                                     [key], {});\n",
              "          if (!dataTable) return;\n",
              "\n",
              "          const docLinkHtml = 'Like what you see? Visit the ' +\n",
              "            '<a target=\"_blank\" href=https://colab.research.google.com/notebooks/data_table.ipynb>data table notebook</a>'\n",
              "            + ' to learn more about interactive tables.';\n",
              "          element.innerHTML = '';\n",
              "          dataTable['output_type'] = 'display_data';\n",
              "          await google.colab.output.renderOutput(dataTable, element);\n",
              "          const docLink = document.createElement('div');\n",
              "          docLink.innerHTML = docLinkHtml;\n",
              "          element.appendChild(docLink);\n",
              "        }\n",
              "      </script>\n",
              "    </div>\n",
              "  </div>\n",
              "  "
            ],
            "text/plain": [
              "          company                         title  totalyearlycompensation  \\\n",
              "0          Oracle               Product Manager                   127000   \n",
              "1            eBay             Software Engineer                   100000   \n",
              "2          Amazon               Product Manager                   310000   \n",
              "3           Apple  Software Engineering Manager                   372000   \n",
              "4       Microsoft             Software Engineer                   157000   \n",
              "...           ...                           ...                      ...   \n",
              "62637      Google             Software Engineer                   327000   \n",
              "62638   Microsoft             Software Engineer                   237000   \n",
              "62639        MSFT             Software Engineer                   220000   \n",
              "62640  Salesforce             Software Engineer                   280000   \n",
              "62641       apple             Software Engineer                   200000   \n",
              "\n",
              "                location  yearsofexperience  yearsatcompany  \\\n",
              "0       Redwood City, CA                1.5             1.5   \n",
              "1      San Francisco, CA                5.0             3.0   \n",
              "2            Seattle, WA                8.0             0.0   \n",
              "3          Sunnyvale, CA                7.0             5.0   \n",
              "4      Mountain View, CA                5.0             3.0   \n",
              "...                  ...                ...             ...   \n",
              "62637        Seattle, WA               10.0             1.0   \n",
              "62638        Redmond, WA                2.0             2.0   \n",
              "62639        Seattle, WA               14.0            12.0   \n",
              "62640  San Francisco, CA                8.0             4.0   \n",
              "62641      Sunnyvale, CA                0.0             0.0   \n",
              "\n",
              "                                  tag  basesalary  stockgrantvalue    bonus  \\\n",
              "0                                 NaN    107000.0          20000.0  10000.0   \n",
              "1                                 NaN         0.0              0.0      0.0   \n",
              "2                                 NaN    155000.0              0.0      0.0   \n",
              "3                                 NaN    157000.0         180000.0  35000.0   \n",
              "4                                 NaN         0.0              0.0      0.0   \n",
              "...                               ...         ...              ...      ...   \n",
              "62637  Distributed Systems (Back-End)    155000.0         150000.0  22000.0   \n",
              "62638                      Full Stack    146900.0          73200.0  16000.0   \n",
              "62639                      Full Stack    157000.0          25000.0  20000.0   \n",
              "62640                             iOS    194688.0          57000.0  29000.0   \n",
              "62641                         ML / AI    155000.0          27000.0  19000.0   \n",
              "\n",
              "      gender  Masters_Degree  Masters_Degree  Bachelors_Degree  \\\n",
              "0        NaN               0               0                 0   \n",
              "1        NaN               0               0                 0   \n",
              "2        NaN               0               0                 0   \n",
              "3        NaN               0               0                 0   \n",
              "4        NaN               0               0                 0   \n",
              "...      ...             ...             ...               ...   \n",
              "62637    NaN               0               0                 0   \n",
              "62638    NaN               0               0                 0   \n",
              "62639    NaN               0               0                 0   \n",
              "62640    NaN               0               0                 0   \n",
              "62641   Male               0               0                 0   \n",
              "\n",
              "       Doctorate_Degree  Highschool  Some_College  \n",
              "0                     0           0             0  \n",
              "1                     0           0             0  \n",
              "2                     0           0             0  \n",
              "3                     0           0             0  \n",
              "4                     0           0             0  \n",
              "...                 ...         ...           ...  \n",
              "62637                 0           0             0  \n",
              "62638                 0           0             0  \n",
              "62639                 0           0             0  \n",
              "62640                 0           0             0  \n",
              "62641                 0           0             0  \n",
              "\n",
              "[62637 rows x 17 columns]"
            ]
          },
          "execution_count": 129,
          "metadata": {},
          "output_type": "execute_result"
        }
      ],
      "source": [
        "df= df[to_keep]\n",
        "df.dropna(subset=[\"company\"])"
      ]
    },
    {
      "cell_type": "code",
      "execution_count": null,
      "metadata": {
        "id": "Y3zAyR71Kbtp"
      },
      "outputs": [],
      "source": [
        "X = df.drop(['totalyearlycompensation'], axis=1)\n",
        "y = df['totalyearlycompensation']"
      ]
    },
    {
      "cell_type": "code",
      "execution_count": null,
      "metadata": {
        "colab": {
          "base_uri": "https://localhost:8080/"
        },
        "id": "cMcS-mWISOzb",
        "outputId": "9eba5b04-5580-4e08-f395-ad3af8457abe"
      },
      "outputs": [
        {
          "name": "stdout",
          "output_type": "stream",
          "text": [
            "<class 'pandas.core.frame.DataFrame'>\n",
            "RangeIndex: 62642 entries, 0 to 62641\n",
            "Data columns (total 16 columns):\n",
            " #   Column             Non-Null Count  Dtype  \n",
            "---  ------             --------------  -----  \n",
            " 0   company            62637 non-null  object \n",
            " 1   title              62642 non-null  object \n",
            " 2   location           62642 non-null  object \n",
            " 3   yearsofexperience  62642 non-null  float64\n",
            " 4   yearsatcompany     62642 non-null  float64\n",
            " 5   tag                61788 non-null  object \n",
            " 6   basesalary         62642 non-null  float64\n",
            " 7   stockgrantvalue    62642 non-null  float64\n",
            " 8   bonus              62642 non-null  float64\n",
            " 9   gender             43102 non-null  object \n",
            " 10  Masters_Degree     62642 non-null  int64  \n",
            " 11  Masters_Degree     62642 non-null  int64  \n",
            " 12  Bachelors_Degree   62642 non-null  int64  \n",
            " 13  Doctorate_Degree   62642 non-null  int64  \n",
            " 14  Highschool         62642 non-null  int64  \n",
            " 15  Some_College       62642 non-null  int64  \n",
            "dtypes: float64(5), int64(6), object(5)\n",
            "memory usage: 7.6+ MB\n"
          ]
        }
      ],
      "source": [
        "X.info()"
      ]
    },
    {
      "cell_type": "code",
      "execution_count": null,
      "metadata": {
        "colab": {
          "base_uri": "https://localhost:8080/"
        },
        "id": "PGKV-7i_LThU",
        "outputId": "0d9e51ac-e8c7-490e-ed53-d52891a84e72"
      },
      "outputs": [
        {
          "data": {
            "text/plain": [
              "Index(['company', 'title', 'location', 'tag', 'gender'], dtype='object')"
            ]
          },
          "execution_count": 132,
          "metadata": {},
          "output_type": "execute_result"
        }
      ],
      "source": [
        "categorical_X = X.select_dtypes(include='object') #chose only object type from X df\n",
        "categorical_X.columns"
      ]
    },
    {
      "cell_type": "code",
      "execution_count": null,
      "metadata": {
        "id": "VPo5QvuWLZpp"
      },
      "outputs": [],
      "source": [
        "from sklearn.preprocessing import OrdinalEncoder #Change string to number\n",
        "enc = OrdinalEncoder()\n",
        "enc.fit(X[categorical_X.columns])\n",
        "X[categorical_X.columns] = enc.transform(X[categorical_X.columns])"
      ]
    },
    {
      "cell_type": "code",
      "execution_count": null,
      "metadata": {
        "colab": {
          "base_uri": "https://localhost:8080/",
          "height": 270
        },
        "id": "pGQ4oSoNLzrd",
        "outputId": "caa32d7b-dda5-4708-b7c6-6ff90f7fd806"
      },
      "outputs": [
        {
          "data": {
            "text/html": [
              "\n",
              "  <div id=\"df-7e358f78-9b4c-465d-80a7-274e4813c250\">\n",
              "    <div class=\"colab-df-container\">\n",
              "      <div>\n",
              "<style scoped>\n",
              "    .dataframe tbody tr th:only-of-type {\n",
              "        vertical-align: middle;\n",
              "    }\n",
              "\n",
              "    .dataframe tbody tr th {\n",
              "        vertical-align: top;\n",
              "    }\n",
              "\n",
              "    .dataframe thead th {\n",
              "        text-align: right;\n",
              "    }\n",
              "</style>\n",
              "<table border=\"1\" class=\"dataframe\">\n",
              "  <thead>\n",
              "    <tr style=\"text-align: right;\">\n",
              "      <th></th>\n",
              "      <th>company</th>\n",
              "      <th>title</th>\n",
              "      <th>location</th>\n",
              "      <th>yearsofexperience</th>\n",
              "      <th>yearsatcompany</th>\n",
              "      <th>tag</th>\n",
              "      <th>basesalary</th>\n",
              "      <th>stockgrantvalue</th>\n",
              "      <th>bonus</th>\n",
              "      <th>gender</th>\n",
              "      <th>Masters_Degree</th>\n",
              "      <th>Masters_Degree</th>\n",
              "      <th>Bachelors_Degree</th>\n",
              "      <th>Doctorate_Degree</th>\n",
              "      <th>Highschool</th>\n",
              "      <th>Some_College</th>\n",
              "    </tr>\n",
              "  </thead>\n",
              "  <tbody>\n",
              "    <tr>\n",
              "      <th>0</th>\n",
              "      <td>920.0</td>\n",
              "      <td>8.0</td>\n",
              "      <td>767.0</td>\n",
              "      <td>1.5</td>\n",
              "      <td>1.5</td>\n",
              "      <td>NaN</td>\n",
              "      <td>107000.0</td>\n",
              "      <td>20000.0</td>\n",
              "      <td>10000.0</td>\n",
              "      <td>NaN</td>\n",
              "      <td>0</td>\n",
              "      <td>0</td>\n",
              "      <td>0</td>\n",
              "      <td>0</td>\n",
              "      <td>0</td>\n",
              "      <td>0</td>\n",
              "    </tr>\n",
              "    <tr>\n",
              "      <th>1</th>\n",
              "      <td>1458.0</td>\n",
              "      <td>11.0</td>\n",
              "      <td>822.0</td>\n",
              "      <td>5.0</td>\n",
              "      <td>3.0</td>\n",
              "      <td>NaN</td>\n",
              "      <td>0.0</td>\n",
              "      <td>0.0</td>\n",
              "      <td>0.0</td>\n",
              "      <td>NaN</td>\n",
              "      <td>0</td>\n",
              "      <td>0</td>\n",
              "      <td>0</td>\n",
              "      <td>0</td>\n",
              "      <td>0</td>\n",
              "      <td>0</td>\n",
              "    </tr>\n",
              "    <tr>\n",
              "      <th>2</th>\n",
              "      <td>64.0</td>\n",
              "      <td>8.0</td>\n",
              "      <td>858.0</td>\n",
              "      <td>8.0</td>\n",
              "      <td>0.0</td>\n",
              "      <td>NaN</td>\n",
              "      <td>155000.0</td>\n",
              "      <td>0.0</td>\n",
              "      <td>0.0</td>\n",
              "      <td>NaN</td>\n",
              "      <td>0</td>\n",
              "      <td>0</td>\n",
              "      <td>0</td>\n",
              "      <td>0</td>\n",
              "      <td>0</td>\n",
              "      <td>0</td>\n",
              "    </tr>\n",
              "    <tr>\n",
              "      <th>3</th>\n",
              "      <td>95.0</td>\n",
              "      <td>12.0</td>\n",
              "      <td>908.0</td>\n",
              "      <td>7.0</td>\n",
              "      <td>5.0</td>\n",
              "      <td>NaN</td>\n",
              "      <td>157000.0</td>\n",
              "      <td>180000.0</td>\n",
              "      <td>35000.0</td>\n",
              "      <td>NaN</td>\n",
              "      <td>0</td>\n",
              "      <td>0</td>\n",
              "      <td>0</td>\n",
              "      <td>0</td>\n",
              "      <td>0</td>\n",
              "      <td>0</td>\n",
              "    </tr>\n",
              "    <tr>\n",
              "      <th>4</th>\n",
              "      <td>818.0</td>\n",
              "      <td>11.0</td>\n",
              "      <td>609.0</td>\n",
              "      <td>5.0</td>\n",
              "      <td>3.0</td>\n",
              "      <td>NaN</td>\n",
              "      <td>0.0</td>\n",
              "      <td>0.0</td>\n",
              "      <td>0.0</td>\n",
              "      <td>NaN</td>\n",
              "      <td>0</td>\n",
              "      <td>0</td>\n",
              "      <td>0</td>\n",
              "      <td>0</td>\n",
              "      <td>0</td>\n",
              "      <td>0</td>\n",
              "    </tr>\n",
              "  </tbody>\n",
              "</table>\n",
              "</div>\n",
              "      <button class=\"colab-df-convert\" onclick=\"convertToInteractive('df-7e358f78-9b4c-465d-80a7-274e4813c250')\"\n",
              "              title=\"Convert this dataframe to an interactive table.\"\n",
              "              style=\"display:none;\">\n",
              "        \n",
              "  <svg xmlns=\"http://www.w3.org/2000/svg\" height=\"24px\"viewBox=\"0 0 24 24\"\n",
              "       width=\"24px\">\n",
              "    <path d=\"M0 0h24v24H0V0z\" fill=\"none\"/>\n",
              "    <path d=\"M18.56 5.44l.94 2.06.94-2.06 2.06-.94-2.06-.94-.94-2.06-.94 2.06-2.06.94zm-11 1L8.5 8.5l.94-2.06 2.06-.94-2.06-.94L8.5 2.5l-.94 2.06-2.06.94zm10 10l.94 2.06.94-2.06 2.06-.94-2.06-.94-.94-2.06-.94 2.06-2.06.94z\"/><path d=\"M17.41 7.96l-1.37-1.37c-.4-.4-.92-.59-1.43-.59-.52 0-1.04.2-1.43.59L10.3 9.45l-7.72 7.72c-.78.78-.78 2.05 0 2.83L4 21.41c.39.39.9.59 1.41.59.51 0 1.02-.2 1.41-.59l7.78-7.78 2.81-2.81c.8-.78.8-2.07 0-2.86zM5.41 20L4 18.59l7.72-7.72 1.47 1.35L5.41 20z\"/>\n",
              "  </svg>\n",
              "      </button>\n",
              "      \n",
              "  <style>\n",
              "    .colab-df-container {\n",
              "      display:flex;\n",
              "      flex-wrap:wrap;\n",
              "      gap: 12px;\n",
              "    }\n",
              "\n",
              "    .colab-df-convert {\n",
              "      background-color: #E8F0FE;\n",
              "      border: none;\n",
              "      border-radius: 50%;\n",
              "      cursor: pointer;\n",
              "      display: none;\n",
              "      fill: #1967D2;\n",
              "      height: 32px;\n",
              "      padding: 0 0 0 0;\n",
              "      width: 32px;\n",
              "    }\n",
              "\n",
              "    .colab-df-convert:hover {\n",
              "      background-color: #E2EBFA;\n",
              "      box-shadow: 0px 1px 2px rgba(60, 64, 67, 0.3), 0px 1px 3px 1px rgba(60, 64, 67, 0.15);\n",
              "      fill: #174EA6;\n",
              "    }\n",
              "\n",
              "    [theme=dark] .colab-df-convert {\n",
              "      background-color: #3B4455;\n",
              "      fill: #D2E3FC;\n",
              "    }\n",
              "\n",
              "    [theme=dark] .colab-df-convert:hover {\n",
              "      background-color: #434B5C;\n",
              "      box-shadow: 0px 1px 3px 1px rgba(0, 0, 0, 0.15);\n",
              "      filter: drop-shadow(0px 1px 2px rgba(0, 0, 0, 0.3));\n",
              "      fill: #FFFFFF;\n",
              "    }\n",
              "  </style>\n",
              "\n",
              "      <script>\n",
              "        const buttonEl =\n",
              "          document.querySelector('#df-7e358f78-9b4c-465d-80a7-274e4813c250 button.colab-df-convert');\n",
              "        buttonEl.style.display =\n",
              "          google.colab.kernel.accessAllowed ? 'block' : 'none';\n",
              "\n",
              "        async function convertToInteractive(key) {\n",
              "          const element = document.querySelector('#df-7e358f78-9b4c-465d-80a7-274e4813c250');\n",
              "          const dataTable =\n",
              "            await google.colab.kernel.invokeFunction('convertToInteractive',\n",
              "                                                     [key], {});\n",
              "          if (!dataTable) return;\n",
              "\n",
              "          const docLinkHtml = 'Like what you see? Visit the ' +\n",
              "            '<a target=\"_blank\" href=https://colab.research.google.com/notebooks/data_table.ipynb>data table notebook</a>'\n",
              "            + ' to learn more about interactive tables.';\n",
              "          element.innerHTML = '';\n",
              "          dataTable['output_type'] = 'display_data';\n",
              "          await google.colab.output.renderOutput(dataTable, element);\n",
              "          const docLink = document.createElement('div');\n",
              "          docLink.innerHTML = docLinkHtml;\n",
              "          element.appendChild(docLink);\n",
              "        }\n",
              "      </script>\n",
              "    </div>\n",
              "  </div>\n",
              "  "
            ],
            "text/plain": [
              "   company  title  location  yearsofexperience  yearsatcompany  tag  \\\n",
              "0    920.0    8.0     767.0                1.5             1.5  NaN   \n",
              "1   1458.0   11.0     822.0                5.0             3.0  NaN   \n",
              "2     64.0    8.0     858.0                8.0             0.0  NaN   \n",
              "3     95.0   12.0     908.0                7.0             5.0  NaN   \n",
              "4    818.0   11.0     609.0                5.0             3.0  NaN   \n",
              "\n",
              "   basesalary  stockgrantvalue    bonus  gender  Masters_Degree  \\\n",
              "0    107000.0          20000.0  10000.0     NaN               0   \n",
              "1         0.0              0.0      0.0     NaN               0   \n",
              "2    155000.0              0.0      0.0     NaN               0   \n",
              "3    157000.0         180000.0  35000.0     NaN               0   \n",
              "4         0.0              0.0      0.0     NaN               0   \n",
              "\n",
              "   Masters_Degree  Bachelors_Degree  Doctorate_Degree  Highschool  \\\n",
              "0               0                 0                 0           0   \n",
              "1               0                 0                 0           0   \n",
              "2               0                 0                 0           0   \n",
              "3               0                 0                 0           0   \n",
              "4               0                 0                 0           0   \n",
              "\n",
              "   Some_College  \n",
              "0             0  \n",
              "1             0  \n",
              "2             0  \n",
              "3             0  \n",
              "4             0  "
            ]
          },
          "execution_count": 99,
          "metadata": {},
          "output_type": "execute_result"
        }
      ],
      "source": [
        "X.head()"
      ]
    },
    {
      "cell_type": "code",
      "execution_count": null,
      "metadata": {
        "colab": {
          "base_uri": "https://localhost:8080/"
        },
        "id": "djJw6JNyL-fY",
        "outputId": "0b1e2a13-672b-4601-e547-68a44310ea8f"
      },
      "outputs": [
        {
          "data": {
            "text/plain": [
              "company                  5\n",
              "title                    0\n",
              "location                 0\n",
              "yearsofexperience        0\n",
              "yearsatcompany           0\n",
              "tag                    854\n",
              "basesalary               0\n",
              "stockgrantvalue          0\n",
              "bonus                    0\n",
              "gender               19540\n",
              "Masters_Degree           0\n",
              "Masters_Degree           0\n",
              "Bachelors_Degree         0\n",
              "Doctorate_Degree         0\n",
              "Highschool               0\n",
              "Some_College             0\n",
              "dtype: int64"
            ]
          },
          "execution_count": 100,
          "metadata": {},
          "output_type": "execute_result"
        }
      ],
      "source": [
        "X.isnull().sum() #now we can see what is null and we can identify which is numerical or categorical"
      ]
    },
    {
      "cell_type": "code",
      "execution_count": null,
      "metadata": {
        "id": "1z0_XtwwNUxf"
      },
      "outputs": [],
      "source": [
        "import numpy as np\n",
        "from sklearn.impute import SimpleImputer\n",
        "imp = SimpleImputer(strategy='most_frequent') \n",
        "\n",
        "X['gender'] = imp.fit_transform(X['gender'].values.reshape(-1, 1))\n",
        "X['tag'] = imp.fit_transform(X['tag'].values.reshape(-1, 1))\n",
        "X['company'] = imp.fit_transform(X['company'].values.reshape(-1, 1))"
      ]
    },
    {
      "cell_type": "code",
      "execution_count": null,
      "metadata": {
        "colab": {
          "base_uri": "https://localhost:8080/"
        },
        "id": "vUXmD-j5OTdZ",
        "outputId": "941f152e-196c-4c72-acf6-c00c45a3f1f8"
      },
      "outputs": [
        {
          "data": {
            "text/plain": [
              "company              0\n",
              "title                0\n",
              "location             0\n",
              "yearsofexperience    0\n",
              "yearsatcompany       0\n",
              "tag                  0\n",
              "basesalary           0\n",
              "stockgrantvalue      0\n",
              "bonus                0\n",
              "gender               0\n",
              "Masters_Degree       0\n",
              "Masters_Degree       0\n",
              "Bachelors_Degree     0\n",
              "Doctorate_Degree     0\n",
              "Highschool           0\n",
              "Some_College         0\n",
              "dtype: int64"
            ]
          },
          "execution_count": 102,
          "metadata": {},
          "output_type": "execute_result"
        }
      ],
      "source": [
        "X.isnull().sum() #now we can see what is null and we can identify which is numerical or categorical"
      ]
    },
    {
      "cell_type": "code",
      "execution_count": null,
      "metadata": {
        "colab": {
          "base_uri": "https://localhost:8080/"
        },
        "id": "eMS5ILHER8GW",
        "outputId": "d9d0f89a-d348-4e0f-cb51-c76d1b5e5d44"
      },
      "outputs": [
        {
          "name": "stdout",
          "output_type": "stream",
          "text": [
            "<class 'pandas.core.frame.DataFrame'>\n",
            "RangeIndex: 62642 entries, 0 to 62641\n",
            "Data columns (total 16 columns):\n",
            " #   Column             Non-Null Count  Dtype  \n",
            "---  ------             --------------  -----  \n",
            " 0   company            62642 non-null  float64\n",
            " 1   title              62642 non-null  float64\n",
            " 2   location           62642 non-null  float64\n",
            " 3   yearsofexperience  62642 non-null  float64\n",
            " 4   yearsatcompany     62642 non-null  float64\n",
            " 5   tag                62642 non-null  float64\n",
            " 6   basesalary         62642 non-null  float64\n",
            " 7   stockgrantvalue    62642 non-null  float64\n",
            " 8   bonus              62642 non-null  float64\n",
            " 9   gender             62642 non-null  float64\n",
            " 10  Masters_Degree     62642 non-null  int64  \n",
            " 11  Masters_Degree     62642 non-null  int64  \n",
            " 12  Bachelors_Degree   62642 non-null  int64  \n",
            " 13  Doctorate_Degree   62642 non-null  int64  \n",
            " 14  Highschool         62642 non-null  int64  \n",
            " 15  Some_College       62642 non-null  int64  \n",
            "dtypes: float64(10), int64(6)\n",
            "memory usage: 7.6 MB\n"
          ]
        }
      ],
      "source": [
        "X.info()"
      ]
    },
    {
      "cell_type": "code",
      "execution_count": null,
      "metadata": {
        "colab": {
          "base_uri": "https://localhost:8080/"
        },
        "id": "3KRyhQf1xsAD",
        "outputId": "45cfb5ca-9c34-476f-9e62-93bd5440354c"
      },
      "outputs": [
        {
          "data": {
            "text/plain": [
              "(62642, 16)"
            ]
          },
          "execution_count": 104,
          "metadata": {},
          "output_type": "execute_result"
        }
      ],
      "source": [
        "X.shape"
      ]
    },
    {
      "cell_type": "code",
      "execution_count": null,
      "metadata": {
        "id": "fuWEjYNxUpBG"
      },
      "outputs": [],
      "source": [
        "# Split dataset into training set and test set 70% training and 30% test\n",
        "from sklearn.model_selection import train_test_split\n",
        "X_train, X_test, y_train, y_test = train_test_split(X, y, test_size=0.3,random_state=777) "
      ]
    },
    {
      "cell_type": "code",
      "execution_count": null,
      "metadata": {
        "id": "Co3uuN3jUdPe"
      },
      "outputs": [],
      "source": [
        "# Standardization, or mean removal and variance scaling\n",
        "# Standardization of datasets is a common requirement for many machine learning\n",
        "# estimators implemented in scikit-learn; they might behave badly if the \n",
        "# individual features do not more or less look like standard normally distributed data: \n",
        "# Gaussian with zero mean and unit variance.\n",
        "\n",
        "# Standardize features by removing the mean and scaling to unit variance.\n",
        "from sklearn.preprocessing import StandardScaler\n",
        "scaler = StandardScaler()\n",
        "# Fit only to the training data\n",
        "scaler.fit(X_train)\n",
        "\n",
        "# Now apply the transformations to the data:\n",
        "X_train = scaler.transform(X_train)\n",
        "X_test = scaler.transform(X_test)"
      ]
    },
    {
      "cell_type": "code",
      "execution_count": null,
      "metadata": {
        "colab": {
          "base_uri": "https://localhost:8080/"
        },
        "id": "QGk57VxTaF5u",
        "outputId": "b07ffc99-f61a-4075-a115-a0df309d231d"
      },
      "outputs": [
        {
          "data": {
            "text/plain": [
              "array([[-0.40556358,  0.417742  ,  0.70203059, ..., -0.17389146,\n",
              "        -0.07526538, -0.07480434],\n",
              "       [ 0.04294392,  0.417742  ,  0.8171926 , ..., -0.17389146,\n",
              "        -0.07526538, -0.07480434],\n",
              "       [-0.15401969,  0.417742  ,  0.70203059, ..., -0.17389146,\n",
              "        -0.07526538, -0.07480434],\n",
              "       ...,\n",
              "       [ 0.64570003,  1.36533316,  0.75786671, ...,  5.75071361,\n",
              "        -0.07526538, -0.07480434],\n",
              "       [ 0.30160698,  0.417742  ,  0.27279037, ..., -0.17389146,\n",
              "        -0.07526538, -0.07480434],\n",
              "       [-0.46251691,  0.417742  ,  1.22200451, ..., -0.17389146,\n",
              "        -0.07526538, -0.07480434]])"
            ]
          },
          "execution_count": 107,
          "metadata": {},
          "output_type": "execute_result"
        }
      ],
      "source": [
        "X_train"
      ]
    },
    {
      "cell_type": "code",
      "execution_count": null,
      "metadata": {
        "colab": {
          "base_uri": "https://localhost:8080/",
          "height": 391
        },
        "id": "oK4P6jNzVnWF",
        "outputId": "04fbc8de-8bcb-461c-8286-101bedb61f65"
      },
      "outputs": [
        {
          "data": {
            "text/html": [
              "\n",
              "  <div id=\"df-288b9642-70a4-4b34-9808-252869aa8567\">\n",
              "    <div class=\"colab-df-container\">\n",
              "      <div>\n",
              "<style scoped>\n",
              "    .dataframe tbody tr th:only-of-type {\n",
              "        vertical-align: middle;\n",
              "    }\n",
              "\n",
              "    .dataframe tbody tr th {\n",
              "        vertical-align: top;\n",
              "    }\n",
              "\n",
              "    .dataframe thead th {\n",
              "        text-align: right;\n",
              "    }\n",
              "</style>\n",
              "<table border=\"1\" class=\"dataframe\">\n",
              "  <thead>\n",
              "    <tr style=\"text-align: right;\">\n",
              "      <th></th>\n",
              "      <th>company</th>\n",
              "      <th>title</th>\n",
              "      <th>totalyearlycompensation</th>\n",
              "      <th>location</th>\n",
              "      <th>yearsofexperience</th>\n",
              "      <th>yearsatcompany</th>\n",
              "      <th>tag</th>\n",
              "      <th>basesalary</th>\n",
              "      <th>stockgrantvalue</th>\n",
              "      <th>bonus</th>\n",
              "      <th>gender</th>\n",
              "      <th>Masters_Degree</th>\n",
              "      <th>Masters_Degree</th>\n",
              "      <th>Bachelors_Degree</th>\n",
              "      <th>Doctorate_Degree</th>\n",
              "      <th>Highschool</th>\n",
              "      <th>Some_College</th>\n",
              "    </tr>\n",
              "  </thead>\n",
              "  <tbody>\n",
              "    <tr>\n",
              "      <th>0</th>\n",
              "      <td>Oracle</td>\n",
              "      <td>Product Manager</td>\n",
              "      <td>127000</td>\n",
              "      <td>Redwood City, CA</td>\n",
              "      <td>1.5</td>\n",
              "      <td>1.5</td>\n",
              "      <td>NaN</td>\n",
              "      <td>107000.0</td>\n",
              "      <td>20000.0</td>\n",
              "      <td>10000.0</td>\n",
              "      <td>NaN</td>\n",
              "      <td>0</td>\n",
              "      <td>0</td>\n",
              "      <td>0</td>\n",
              "      <td>0</td>\n",
              "      <td>0</td>\n",
              "      <td>0</td>\n",
              "    </tr>\n",
              "    <tr>\n",
              "      <th>1</th>\n",
              "      <td>eBay</td>\n",
              "      <td>Software Engineer</td>\n",
              "      <td>100000</td>\n",
              "      <td>San Francisco, CA</td>\n",
              "      <td>5.0</td>\n",
              "      <td>3.0</td>\n",
              "      <td>NaN</td>\n",
              "      <td>0.0</td>\n",
              "      <td>0.0</td>\n",
              "      <td>0.0</td>\n",
              "      <td>NaN</td>\n",
              "      <td>0</td>\n",
              "      <td>0</td>\n",
              "      <td>0</td>\n",
              "      <td>0</td>\n",
              "      <td>0</td>\n",
              "      <td>0</td>\n",
              "    </tr>\n",
              "    <tr>\n",
              "      <th>2</th>\n",
              "      <td>Amazon</td>\n",
              "      <td>Product Manager</td>\n",
              "      <td>310000</td>\n",
              "      <td>Seattle, WA</td>\n",
              "      <td>8.0</td>\n",
              "      <td>0.0</td>\n",
              "      <td>NaN</td>\n",
              "      <td>155000.0</td>\n",
              "      <td>0.0</td>\n",
              "      <td>0.0</td>\n",
              "      <td>NaN</td>\n",
              "      <td>0</td>\n",
              "      <td>0</td>\n",
              "      <td>0</td>\n",
              "      <td>0</td>\n",
              "      <td>0</td>\n",
              "      <td>0</td>\n",
              "    </tr>\n",
              "    <tr>\n",
              "      <th>3</th>\n",
              "      <td>Apple</td>\n",
              "      <td>Software Engineering Manager</td>\n",
              "      <td>372000</td>\n",
              "      <td>Sunnyvale, CA</td>\n",
              "      <td>7.0</td>\n",
              "      <td>5.0</td>\n",
              "      <td>NaN</td>\n",
              "      <td>157000.0</td>\n",
              "      <td>180000.0</td>\n",
              "      <td>35000.0</td>\n",
              "      <td>NaN</td>\n",
              "      <td>0</td>\n",
              "      <td>0</td>\n",
              "      <td>0</td>\n",
              "      <td>0</td>\n",
              "      <td>0</td>\n",
              "      <td>0</td>\n",
              "    </tr>\n",
              "    <tr>\n",
              "      <th>4</th>\n",
              "      <td>Microsoft</td>\n",
              "      <td>Software Engineer</td>\n",
              "      <td>157000</td>\n",
              "      <td>Mountain View, CA</td>\n",
              "      <td>5.0</td>\n",
              "      <td>3.0</td>\n",
              "      <td>NaN</td>\n",
              "      <td>0.0</td>\n",
              "      <td>0.0</td>\n",
              "      <td>0.0</td>\n",
              "      <td>NaN</td>\n",
              "      <td>0</td>\n",
              "      <td>0</td>\n",
              "      <td>0</td>\n",
              "      <td>0</td>\n",
              "      <td>0</td>\n",
              "      <td>0</td>\n",
              "    </tr>\n",
              "  </tbody>\n",
              "</table>\n",
              "</div>\n",
              "      <button class=\"colab-df-convert\" onclick=\"convertToInteractive('df-288b9642-70a4-4b34-9808-252869aa8567')\"\n",
              "              title=\"Convert this dataframe to an interactive table.\"\n",
              "              style=\"display:none;\">\n",
              "        \n",
              "  <svg xmlns=\"http://www.w3.org/2000/svg\" height=\"24px\"viewBox=\"0 0 24 24\"\n",
              "       width=\"24px\">\n",
              "    <path d=\"M0 0h24v24H0V0z\" fill=\"none\"/>\n",
              "    <path d=\"M18.56 5.44l.94 2.06.94-2.06 2.06-.94-2.06-.94-.94-2.06-.94 2.06-2.06.94zm-11 1L8.5 8.5l.94-2.06 2.06-.94-2.06-.94L8.5 2.5l-.94 2.06-2.06.94zm10 10l.94 2.06.94-2.06 2.06-.94-2.06-.94-.94-2.06-.94 2.06-2.06.94z\"/><path d=\"M17.41 7.96l-1.37-1.37c-.4-.4-.92-.59-1.43-.59-.52 0-1.04.2-1.43.59L10.3 9.45l-7.72 7.72c-.78.78-.78 2.05 0 2.83L4 21.41c.39.39.9.59 1.41.59.51 0 1.02-.2 1.41-.59l7.78-7.78 2.81-2.81c.8-.78.8-2.07 0-2.86zM5.41 20L4 18.59l7.72-7.72 1.47 1.35L5.41 20z\"/>\n",
              "  </svg>\n",
              "      </button>\n",
              "      \n",
              "  <style>\n",
              "    .colab-df-container {\n",
              "      display:flex;\n",
              "      flex-wrap:wrap;\n",
              "      gap: 12px;\n",
              "    }\n",
              "\n",
              "    .colab-df-convert {\n",
              "      background-color: #E8F0FE;\n",
              "      border: none;\n",
              "      border-radius: 50%;\n",
              "      cursor: pointer;\n",
              "      display: none;\n",
              "      fill: #1967D2;\n",
              "      height: 32px;\n",
              "      padding: 0 0 0 0;\n",
              "      width: 32px;\n",
              "    }\n",
              "\n",
              "    .colab-df-convert:hover {\n",
              "      background-color: #E2EBFA;\n",
              "      box-shadow: 0px 1px 2px rgba(60, 64, 67, 0.3), 0px 1px 3px 1px rgba(60, 64, 67, 0.15);\n",
              "      fill: #174EA6;\n",
              "    }\n",
              "\n",
              "    [theme=dark] .colab-df-convert {\n",
              "      background-color: #3B4455;\n",
              "      fill: #D2E3FC;\n",
              "    }\n",
              "\n",
              "    [theme=dark] .colab-df-convert:hover {\n",
              "      background-color: #434B5C;\n",
              "      box-shadow: 0px 1px 3px 1px rgba(0, 0, 0, 0.15);\n",
              "      filter: drop-shadow(0px 1px 2px rgba(0, 0, 0, 0.3));\n",
              "      fill: #FFFFFF;\n",
              "    }\n",
              "  </style>\n",
              "\n",
              "      <script>\n",
              "        const buttonEl =\n",
              "          document.querySelector('#df-288b9642-70a4-4b34-9808-252869aa8567 button.colab-df-convert');\n",
              "        buttonEl.style.display =\n",
              "          google.colab.kernel.accessAllowed ? 'block' : 'none';\n",
              "\n",
              "        async function convertToInteractive(key) {\n",
              "          const element = document.querySelector('#df-288b9642-70a4-4b34-9808-252869aa8567');\n",
              "          const dataTable =\n",
              "            await google.colab.kernel.invokeFunction('convertToInteractive',\n",
              "                                                     [key], {});\n",
              "          if (!dataTable) return;\n",
              "\n",
              "          const docLinkHtml = 'Like what you see? Visit the ' +\n",
              "            '<a target=\"_blank\" href=https://colab.research.google.com/notebooks/data_table.ipynb>data table notebook</a>'\n",
              "            + ' to learn more about interactive tables.';\n",
              "          element.innerHTML = '';\n",
              "          dataTable['output_type'] = 'display_data';\n",
              "          await google.colab.output.renderOutput(dataTable, element);\n",
              "          const docLink = document.createElement('div');\n",
              "          docLink.innerHTML = docLinkHtml;\n",
              "          element.appendChild(docLink);\n",
              "        }\n",
              "      </script>\n",
              "    </div>\n",
              "  </div>\n",
              "  "
            ],
            "text/plain": [
              "     company                         title  totalyearlycompensation  \\\n",
              "0     Oracle               Product Manager                   127000   \n",
              "1       eBay             Software Engineer                   100000   \n",
              "2     Amazon               Product Manager                   310000   \n",
              "3      Apple  Software Engineering Manager                   372000   \n",
              "4  Microsoft             Software Engineer                   157000   \n",
              "\n",
              "            location  yearsofexperience  yearsatcompany  tag  basesalary  \\\n",
              "0   Redwood City, CA                1.5             1.5  NaN    107000.0   \n",
              "1  San Francisco, CA                5.0             3.0  NaN         0.0   \n",
              "2        Seattle, WA                8.0             0.0  NaN    155000.0   \n",
              "3      Sunnyvale, CA                7.0             5.0  NaN    157000.0   \n",
              "4  Mountain View, CA                5.0             3.0  NaN         0.0   \n",
              "\n",
              "   stockgrantvalue    bonus gender  Masters_Degree  Masters_Degree  \\\n",
              "0          20000.0  10000.0    NaN               0               0   \n",
              "1              0.0      0.0    NaN               0               0   \n",
              "2              0.0      0.0    NaN               0               0   \n",
              "3         180000.0  35000.0    NaN               0               0   \n",
              "4              0.0      0.0    NaN               0               0   \n",
              "\n",
              "   Bachelors_Degree  Doctorate_Degree  Highschool  Some_College  \n",
              "0                 0                 0           0             0  \n",
              "1                 0                 0           0             0  \n",
              "2                 0                 0           0             0  \n",
              "3                 0                 0           0             0  \n",
              "4                 0                 0           0             0  "
            ]
          },
          "execution_count": 108,
          "metadata": {},
          "output_type": "execute_result"
        }
      ],
      "source": [
        "df.head()"
      ]
    },
    {
      "cell_type": "code",
      "execution_count": null,
      "metadata": {
        "colab": {
          "base_uri": "https://localhost:8080/"
        },
        "id": "R_iEHmWlLiiX",
        "outputId": "8afede4a-6466-4d94-9ec9-14bd39822f98"
      },
      "outputs": [
        {
          "name": "stdout",
          "output_type": "stream",
          "text": [
            "<class 'pandas.core.frame.DataFrame'>\n",
            "RangeIndex: 62642 entries, 0 to 62641\n",
            "Data columns (total 17 columns):\n",
            " #   Column                   Non-Null Count  Dtype  \n",
            "---  ------                   --------------  -----  \n",
            " 0   company                  62637 non-null  object \n",
            " 1   title                    62642 non-null  object \n",
            " 2   totalyearlycompensation  62642 non-null  int64  \n",
            " 3   location                 62642 non-null  object \n",
            " 4   yearsofexperience        62642 non-null  float64\n",
            " 5   yearsatcompany           62642 non-null  float64\n",
            " 6   tag                      61788 non-null  object \n",
            " 7   basesalary               62642 non-null  float64\n",
            " 8   stockgrantvalue          62642 non-null  float64\n",
            " 9   bonus                    62642 non-null  float64\n",
            " 10  gender                   43102 non-null  object \n",
            " 11  Masters_Degree           62642 non-null  int64  \n",
            " 12  Masters_Degree           62642 non-null  int64  \n",
            " 13  Bachelors_Degree         62642 non-null  int64  \n",
            " 14  Doctorate_Degree         62642 non-null  int64  \n",
            " 15  Highschool               62642 non-null  int64  \n",
            " 16  Some_College             62642 non-null  int64  \n",
            "dtypes: float64(5), int64(7), object(5)\n",
            "memory usage: 8.1+ MB\n"
          ]
        }
      ],
      "source": [
        "df.info()"
      ]
    },
    {
      "cell_type": "code",
      "execution_count": null,
      "metadata": {
        "colab": {
          "base_uri": "https://localhost:8080/",
          "height": 409
        },
        "id": "c8HpZHJ8o3cD",
        "outputId": "f6857438-cde2-4d01-db44-d07bd5c4def0"
      },
      "outputs": [
        {
          "data": {
            "text/html": [
              "\n",
              "  <div id=\"df-97d2d86f-8717-45ae-8118-20609f061555\">\n",
              "    <div class=\"colab-df-container\">\n",
              "      <div>\n",
              "<style scoped>\n",
              "    .dataframe tbody tr th:only-of-type {\n",
              "        vertical-align: middle;\n",
              "    }\n",
              "\n",
              "    .dataframe tbody tr th {\n",
              "        vertical-align: top;\n",
              "    }\n",
              "\n",
              "    .dataframe thead th {\n",
              "        text-align: right;\n",
              "    }\n",
              "</style>\n",
              "<table border=\"1\" class=\"dataframe\">\n",
              "  <thead>\n",
              "    <tr style=\"text-align: right;\">\n",
              "      <th></th>\n",
              "      <th>company</th>\n",
              "      <th>title</th>\n",
              "      <th>totalyearlycompensation</th>\n",
              "      <th>location</th>\n",
              "      <th>yearsofexperience</th>\n",
              "      <th>yearsatcompany</th>\n",
              "      <th>tag</th>\n",
              "      <th>basesalary</th>\n",
              "      <th>stockgrantvalue</th>\n",
              "      <th>bonus</th>\n",
              "      <th>gender</th>\n",
              "      <th>Masters_Degree</th>\n",
              "      <th>Masters_Degree</th>\n",
              "      <th>Bachelors_Degree</th>\n",
              "      <th>Doctorate_Degree</th>\n",
              "      <th>Highschool</th>\n",
              "      <th>Some_College</th>\n",
              "    </tr>\n",
              "  </thead>\n",
              "  <tbody>\n",
              "    <tr>\n",
              "      <th>62637</th>\n",
              "      <td>Google</td>\n",
              "      <td>Software Engineer</td>\n",
              "      <td>327000</td>\n",
              "      <td>Seattle, WA</td>\n",
              "      <td>10.0</td>\n",
              "      <td>1.0</td>\n",
              "      <td>Distributed Systems (Back-End)</td>\n",
              "      <td>155000.0</td>\n",
              "      <td>150000.0</td>\n",
              "      <td>22000.0</td>\n",
              "      <td>NaN</td>\n",
              "      <td>0</td>\n",
              "      <td>0</td>\n",
              "      <td>0</td>\n",
              "      <td>0</td>\n",
              "      <td>0</td>\n",
              "      <td>0</td>\n",
              "    </tr>\n",
              "    <tr>\n",
              "      <th>62638</th>\n",
              "      <td>Microsoft</td>\n",
              "      <td>Software Engineer</td>\n",
              "      <td>237000</td>\n",
              "      <td>Redmond, WA</td>\n",
              "      <td>2.0</td>\n",
              "      <td>2.0</td>\n",
              "      <td>Full Stack</td>\n",
              "      <td>146900.0</td>\n",
              "      <td>73200.0</td>\n",
              "      <td>16000.0</td>\n",
              "      <td>NaN</td>\n",
              "      <td>0</td>\n",
              "      <td>0</td>\n",
              "      <td>0</td>\n",
              "      <td>0</td>\n",
              "      <td>0</td>\n",
              "      <td>0</td>\n",
              "    </tr>\n",
              "    <tr>\n",
              "      <th>62639</th>\n",
              "      <td>MSFT</td>\n",
              "      <td>Software Engineer</td>\n",
              "      <td>220000</td>\n",
              "      <td>Seattle, WA</td>\n",
              "      <td>14.0</td>\n",
              "      <td>12.0</td>\n",
              "      <td>Full Stack</td>\n",
              "      <td>157000.0</td>\n",
              "      <td>25000.0</td>\n",
              "      <td>20000.0</td>\n",
              "      <td>NaN</td>\n",
              "      <td>0</td>\n",
              "      <td>0</td>\n",
              "      <td>0</td>\n",
              "      <td>0</td>\n",
              "      <td>0</td>\n",
              "      <td>0</td>\n",
              "    </tr>\n",
              "    <tr>\n",
              "      <th>62640</th>\n",
              "      <td>Salesforce</td>\n",
              "      <td>Software Engineer</td>\n",
              "      <td>280000</td>\n",
              "      <td>San Francisco, CA</td>\n",
              "      <td>8.0</td>\n",
              "      <td>4.0</td>\n",
              "      <td>iOS</td>\n",
              "      <td>194688.0</td>\n",
              "      <td>57000.0</td>\n",
              "      <td>29000.0</td>\n",
              "      <td>NaN</td>\n",
              "      <td>0</td>\n",
              "      <td>0</td>\n",
              "      <td>0</td>\n",
              "      <td>0</td>\n",
              "      <td>0</td>\n",
              "      <td>0</td>\n",
              "    </tr>\n",
              "    <tr>\n",
              "      <th>62641</th>\n",
              "      <td>apple</td>\n",
              "      <td>Software Engineer</td>\n",
              "      <td>200000</td>\n",
              "      <td>Sunnyvale, CA</td>\n",
              "      <td>0.0</td>\n",
              "      <td>0.0</td>\n",
              "      <td>ML / AI</td>\n",
              "      <td>155000.0</td>\n",
              "      <td>27000.0</td>\n",
              "      <td>19000.0</td>\n",
              "      <td>Male</td>\n",
              "      <td>0</td>\n",
              "      <td>0</td>\n",
              "      <td>0</td>\n",
              "      <td>0</td>\n",
              "      <td>0</td>\n",
              "      <td>0</td>\n",
              "    </tr>\n",
              "  </tbody>\n",
              "</table>\n",
              "</div>\n",
              "      <button class=\"colab-df-convert\" onclick=\"convertToInteractive('df-97d2d86f-8717-45ae-8118-20609f061555')\"\n",
              "              title=\"Convert this dataframe to an interactive table.\"\n",
              "              style=\"display:none;\">\n",
              "        \n",
              "  <svg xmlns=\"http://www.w3.org/2000/svg\" height=\"24px\"viewBox=\"0 0 24 24\"\n",
              "       width=\"24px\">\n",
              "    <path d=\"M0 0h24v24H0V0z\" fill=\"none\"/>\n",
              "    <path d=\"M18.56 5.44l.94 2.06.94-2.06 2.06-.94-2.06-.94-.94-2.06-.94 2.06-2.06.94zm-11 1L8.5 8.5l.94-2.06 2.06-.94-2.06-.94L8.5 2.5l-.94 2.06-2.06.94zm10 10l.94 2.06.94-2.06 2.06-.94-2.06-.94-.94-2.06-.94 2.06-2.06.94z\"/><path d=\"M17.41 7.96l-1.37-1.37c-.4-.4-.92-.59-1.43-.59-.52 0-1.04.2-1.43.59L10.3 9.45l-7.72 7.72c-.78.78-.78 2.05 0 2.83L4 21.41c.39.39.9.59 1.41.59.51 0 1.02-.2 1.41-.59l7.78-7.78 2.81-2.81c.8-.78.8-2.07 0-2.86zM5.41 20L4 18.59l7.72-7.72 1.47 1.35L5.41 20z\"/>\n",
              "  </svg>\n",
              "      </button>\n",
              "      \n",
              "  <style>\n",
              "    .colab-df-container {\n",
              "      display:flex;\n",
              "      flex-wrap:wrap;\n",
              "      gap: 12px;\n",
              "    }\n",
              "\n",
              "    .colab-df-convert {\n",
              "      background-color: #E8F0FE;\n",
              "      border: none;\n",
              "      border-radius: 50%;\n",
              "      cursor: pointer;\n",
              "      display: none;\n",
              "      fill: #1967D2;\n",
              "      height: 32px;\n",
              "      padding: 0 0 0 0;\n",
              "      width: 32px;\n",
              "    }\n",
              "\n",
              "    .colab-df-convert:hover {\n",
              "      background-color: #E2EBFA;\n",
              "      box-shadow: 0px 1px 2px rgba(60, 64, 67, 0.3), 0px 1px 3px 1px rgba(60, 64, 67, 0.15);\n",
              "      fill: #174EA6;\n",
              "    }\n",
              "\n",
              "    [theme=dark] .colab-df-convert {\n",
              "      background-color: #3B4455;\n",
              "      fill: #D2E3FC;\n",
              "    }\n",
              "\n",
              "    [theme=dark] .colab-df-convert:hover {\n",
              "      background-color: #434B5C;\n",
              "      box-shadow: 0px 1px 3px 1px rgba(0, 0, 0, 0.15);\n",
              "      filter: drop-shadow(0px 1px 2px rgba(0, 0, 0, 0.3));\n",
              "      fill: #FFFFFF;\n",
              "    }\n",
              "  </style>\n",
              "\n",
              "      <script>\n",
              "        const buttonEl =\n",
              "          document.querySelector('#df-97d2d86f-8717-45ae-8118-20609f061555 button.colab-df-convert');\n",
              "        buttonEl.style.display =\n",
              "          google.colab.kernel.accessAllowed ? 'block' : 'none';\n",
              "\n",
              "        async function convertToInteractive(key) {\n",
              "          const element = document.querySelector('#df-97d2d86f-8717-45ae-8118-20609f061555');\n",
              "          const dataTable =\n",
              "            await google.colab.kernel.invokeFunction('convertToInteractive',\n",
              "                                                     [key], {});\n",
              "          if (!dataTable) return;\n",
              "\n",
              "          const docLinkHtml = 'Like what you see? Visit the ' +\n",
              "            '<a target=\"_blank\" href=https://colab.research.google.com/notebooks/data_table.ipynb>data table notebook</a>'\n",
              "            + ' to learn more about interactive tables.';\n",
              "          element.innerHTML = '';\n",
              "          dataTable['output_type'] = 'display_data';\n",
              "          await google.colab.output.renderOutput(dataTable, element);\n",
              "          const docLink = document.createElement('div');\n",
              "          docLink.innerHTML = docLinkHtml;\n",
              "          element.appendChild(docLink);\n",
              "        }\n",
              "      </script>\n",
              "    </div>\n",
              "  </div>\n",
              "  "
            ],
            "text/plain": [
              "          company              title  totalyearlycompensation  \\\n",
              "62637      Google  Software Engineer                   327000   \n",
              "62638   Microsoft  Software Engineer                   237000   \n",
              "62639        MSFT  Software Engineer                   220000   \n",
              "62640  Salesforce  Software Engineer                   280000   \n",
              "62641       apple  Software Engineer                   200000   \n",
              "\n",
              "                location  yearsofexperience  yearsatcompany  \\\n",
              "62637        Seattle, WA               10.0             1.0   \n",
              "62638        Redmond, WA                2.0             2.0   \n",
              "62639        Seattle, WA               14.0            12.0   \n",
              "62640  San Francisco, CA                8.0             4.0   \n",
              "62641      Sunnyvale, CA                0.0             0.0   \n",
              "\n",
              "                                  tag  basesalary  stockgrantvalue    bonus  \\\n",
              "62637  Distributed Systems (Back-End)    155000.0         150000.0  22000.0   \n",
              "62638                      Full Stack    146900.0          73200.0  16000.0   \n",
              "62639                      Full Stack    157000.0          25000.0  20000.0   \n",
              "62640                             iOS    194688.0          57000.0  29000.0   \n",
              "62641                         ML / AI    155000.0          27000.0  19000.0   \n",
              "\n",
              "      gender  Masters_Degree  Masters_Degree  Bachelors_Degree  \\\n",
              "62637    NaN               0               0                 0   \n",
              "62638    NaN               0               0                 0   \n",
              "62639    NaN               0               0                 0   \n",
              "62640    NaN               0               0                 0   \n",
              "62641   Male               0               0                 0   \n",
              "\n",
              "       Doctorate_Degree  Highschool  Some_College  \n",
              "62637                 0           0             0  \n",
              "62638                 0           0             0  \n",
              "62639                 0           0             0  \n",
              "62640                 0           0             0  \n",
              "62641                 0           0             0  "
            ]
          },
          "execution_count": 110,
          "metadata": {},
          "output_type": "execute_result"
        }
      ],
      "source": [
        "df.tail()"
      ]
    },
    {
      "cell_type": "code",
      "execution_count": null,
      "metadata": {
        "colab": {
          "base_uri": "https://localhost:8080/"
        },
        "id": "b5mw-axyo45C",
        "outputId": "f4a6b1ef-bbb3-4554-ab83-13dc2290b296"
      },
      "outputs": [
        {
          "data": {
            "text/plain": [
              "Index(['company', 'title', 'totalyearlycompensation', 'location',\n",
              "       'yearsofexperience', 'yearsatcompany', 'tag', 'basesalary',\n",
              "       'stockgrantvalue', 'bonus', 'gender', 'Masters_Degree',\n",
              "       'Masters_Degree', 'Bachelors_Degree', 'Doctorate_Degree', 'Highschool',\n",
              "       'Some_College'],\n",
              "      dtype='object')"
            ]
          },
          "execution_count": 111,
          "metadata": {},
          "output_type": "execute_result"
        }
      ],
      "source": [
        "df.columns"
      ]
    },
    {
      "cell_type": "code",
      "execution_count": null,
      "metadata": {
        "colab": {
          "base_uri": "https://localhost:8080/"
        },
        "id": "Yqqfp2Zjo7u1",
        "outputId": "40125ac0-c214-47b2-e60e-0465a534a920"
      },
      "outputs": [
        {
          "data": {
            "text/plain": [
              "company                     object\n",
              "title                       object\n",
              "totalyearlycompensation      int64\n",
              "location                    object\n",
              "yearsofexperience          float64\n",
              "yearsatcompany             float64\n",
              "tag                         object\n",
              "basesalary                 float64\n",
              "stockgrantvalue            float64\n",
              "bonus                      float64\n",
              "gender                      object\n",
              "Masters_Degree               int64\n",
              "Masters_Degree               int64\n",
              "Bachelors_Degree             int64\n",
              "Doctorate_Degree             int64\n",
              "Highschool                   int64\n",
              "Some_College                 int64\n",
              "dtype: object"
            ]
          },
          "execution_count": 112,
          "metadata": {},
          "output_type": "execute_result"
        }
      ],
      "source": [
        "df.dtypes"
      ]
    },
    {
      "cell_type": "code",
      "execution_count": null,
      "metadata": {
        "id": "oFzoaIQfstPm"
      },
      "outputs": [],
      "source": [
        "df = df.rename(\n",
        "    columns={\n",
        "        \"totalyearlycompensation\": \"total_yearly_compensation\",\n",
        "        \"yearsofexperience\": \"years_of_experience\",\n",
        "        \"yearsatcompany\": \"years_at_company\",\n",
        "        \"basesalary\": \"base_salary\",\n",
        "        \"stockgrantvalue\": \"stock_grant_value\"\n",
        "    }\n",
        ")"
      ]
    },
    {
      "cell_type": "code",
      "execution_count": null,
      "metadata": {
        "colab": {
          "base_uri": "https://localhost:8080/"
        },
        "id": "DTG7vJ4ntk_W",
        "outputId": "e00a1a37-e570-4743-ffee-580c22a3327b"
      },
      "outputs": [
        {
          "data": {
            "text/plain": [
              "Index(['company', 'title', 'total_yearly_compensation', 'location',\n",
              "       'years_of_experience', 'years_at_company', 'tag', 'base_salary',\n",
              "       'stock_grant_value', 'bonus', 'gender', 'Masters_Degree',\n",
              "       'Masters_Degree', 'Bachelors_Degree', 'Doctorate_Degree', 'Highschool',\n",
              "       'Some_College'],\n",
              "      dtype='object')"
            ]
          },
          "execution_count": 114,
          "metadata": {},
          "output_type": "execute_result"
        }
      ],
      "source": [
        "df.columns"
      ]
    },
    {
      "cell_type": "code",
      "execution_count": null,
      "metadata": {
        "id": "rV8ci2Ma0WX3"
      },
      "outputs": [],
      "source": [
        "profile = ProfileReport(df)\n",
        "#profile.to_notebook_iframe() #create report on colab"
      ]
    },
    {
      "cell_type": "code",
      "execution_count": null,
      "metadata": {
        "colab": {
          "base_uri": "https://localhost:8080/"
        },
        "id": "PVDHGTUuu7zy",
        "outputId": "d1a2f0e4-676f-4278-e3d7-92d5cad0b3ac"
      },
      "outputs": [
        {
          "name": "stdout",
          "output_type": "stream",
          "text": [
            "mean squared error: 23837.160855591308\n",
            "r2 score: 0.7223290558962755\n"
          ]
        }
      ],
      "source": [
        "# Lasso \n",
        "#Lasso Support Vector Classification \n",
        "\n",
        "# 1\n",
        "from sklearn.linear_model import Lasso\n",
        "# 2\n",
        "model = Lasso()\n",
        "\n",
        "#4\n",
        "model.fit(X_train, y_train)\n",
        "#5 \n",
        "y_pred = model.predict(X_test)\n",
        "\n",
        "# Regression metrics\n",
        "\n",
        "# Mean squared error regression loss.\n",
        "from sklearn.metrics import mean_absolute_error\n",
        "print(\"mean squared error:\",mean_absolute_error(y_test, y_pred))\n",
        "\n",
        "# R2 (coefficient of determination) regression score function.\n",
        "from sklearn.metrics import r2_score\n",
        "print(\"r2 score:\",r2_score(y_test, y_pred))"
      ]
    },
    {
      "cell_type": "code",
      "execution_count": null,
      "metadata": {
        "colab": {
          "base_uri": "https://localhost:8080/"
        },
        "id": "6Polwlvfu_dd",
        "outputId": "5a717f3c-846f-47c1-8827-2efc8c376362"
      },
      "outputs": [
        {
          "name": "stdout",
          "output_type": "stream",
          "text": [
            "mean squared error: 6206691603.836349\n",
            "r2 score: 0.6963773391973007\n"
          ]
        }
      ],
      "source": [
        "# ElasticNet \n",
        "#ElasticNet Support Vector Classification \n",
        "\n",
        "# 1\n",
        "from sklearn.linear_model import ElasticNet\n",
        "# 2\n",
        "model = ElasticNet()\n",
        "\n",
        "#4\n",
        "model.fit(X_train, y_train)\n",
        "#5 \n",
        "y_pred = model.predict(X_test)\n",
        "\n",
        "# Regression metrics\n",
        "\n",
        "# Mean squared error regression loss.\n",
        "from sklearn.metrics import mean_squared_error\n",
        "print(\"mean squared error:\",mean_squared_error(y_test, y_pred))\n",
        "\n",
        "# R2 (coefficient of determination) regression score function.\n",
        "from sklearn.metrics import r2_score\n",
        "print(\"r2 score:\",r2_score(y_test, y_pred))"
      ]
    },
    {
      "cell_type": "code",
      "execution_count": null,
      "metadata": {
        "colab": {
          "base_uri": "https://localhost:8080/"
        },
        "id": "xilO7U6jvAvA",
        "outputId": "b2e25dbc-0b3b-4cc1-d14e-75809901709c"
      },
      "outputs": [
        {
          "name": "stdout",
          "output_type": "stream",
          "text": [
            "mean squared error: 5676167048.827786\n",
            "r2 score: 0.7223298574299295\n"
          ]
        }
      ],
      "source": [
        "# Ridge \n",
        "#Ridge Support Vector Classification \n",
        "\n",
        "# 1\n",
        "from sklearn.linear_model import Ridge\n",
        "# 2\n",
        "model = Ridge()\n",
        "\n",
        "#4\n",
        "model.fit(X_train, y_train)\n",
        "#5 \n",
        "y_pred = model.predict(X_test)\n",
        "\n",
        "# Regression metrics\n",
        "\n",
        "# Mean squared error regression loss.\n",
        "from sklearn.metrics import mean_squared_error\n",
        "print(\"mean squared error:\",mean_squared_error(y_test, y_pred))\n",
        "\n",
        "# R2 (coefficient of determination) regression score function.\n",
        "from sklearn.metrics import r2_score\n",
        "print(\"r2 score:\",r2_score(y_test, y_pred))"
      ]
    },
    {
      "cell_type": "code",
      "execution_count": null,
      "metadata": {
        "colab": {
          "base_uri": "https://localhost:8080/"
        },
        "id": "8JtrpXSivCPO",
        "outputId": "25943873-f34a-4dbc-fe1d-d214e54bf650"
      },
      "outputs": [
        {
          "name": "stdout",
          "output_type": "stream",
          "text": [
            "mean squared error: 11051878946.857683\n",
            "r2 score: 0.4593575600501608\n"
          ]
        }
      ],
      "source": [
        "# SVR(kernel=\"linear\") \n",
        "#SVR(kernel=\"linear\") Support Vector Classification \n",
        "\n",
        "# 1\n",
        "from sklearn.svm import SVR\n",
        "# 2\n",
        "model = SVR(kernel=\"linear\")\n",
        "\n",
        "#4\n",
        "model.fit(X_train, y_train)\n",
        "#5 \n",
        "y_pred = model.predict(X_test)\n",
        "\n",
        "# Regression metrics\n",
        "\n",
        "# Mean squared error regression loss.\n",
        "from sklearn.metrics import mean_squared_error\n",
        "print(\"mean squared error:\",mean_squared_error(y_test, y_pred))\n",
        "\n",
        "# R2 (coefficient of determination) regression score function.\n",
        "from sklearn.metrics import r2_score\n",
        "print(\"r2 score:\",r2_score(y_test, y_pred))"
      ]
    },
    {
      "cell_type": "code",
      "execution_count": null,
      "metadata": {
        "colab": {
          "background_save": true
        },
        "id": "fHGLF8DJvDgM",
        "outputId": "5b8294b7-5cbc-4b53-87f6-56724d12858a"
      },
      "outputs": [
        {
          "ename": "NameError",
          "evalue": "ignored",
          "output_type": "error",
          "traceback": [
            "\u001b[0;31m---------------------------------------------------------------------------\u001b[0m",
            "\u001b[0;31mNameError\u001b[0m                                 Traceback (most recent call last)",
            "\u001b[0;32m<ipython-input-1-e19618344ae3>\u001b[0m in \u001b[0;36m<module>\u001b[0;34m\u001b[0m\n\u001b[1;32m      8\u001b[0m \u001b[0;34m\u001b[0m\u001b[0m\n\u001b[1;32m      9\u001b[0m \u001b[0;31m#4\u001b[0m\u001b[0;34m\u001b[0m\u001b[0;34m\u001b[0m\u001b[0m\n\u001b[0;32m---> 10\u001b[0;31m \u001b[0mmodel\u001b[0m\u001b[0;34m.\u001b[0m\u001b[0mfit\u001b[0m\u001b[0;34m(\u001b[0m\u001b[0mX_train\u001b[0m\u001b[0;34m,\u001b[0m \u001b[0my_train\u001b[0m\u001b[0;34m)\u001b[0m\u001b[0;34m\u001b[0m\u001b[0;34m\u001b[0m\u001b[0m\n\u001b[0m\u001b[1;32m     11\u001b[0m \u001b[0;31m#5\u001b[0m\u001b[0;34m\u001b[0m\u001b[0;34m\u001b[0m\u001b[0m\n\u001b[1;32m     12\u001b[0m \u001b[0my_pred\u001b[0m \u001b[0;34m=\u001b[0m \u001b[0mmodel\u001b[0m\u001b[0;34m.\u001b[0m\u001b[0mpredict\u001b[0m\u001b[0;34m(\u001b[0m\u001b[0mX_test\u001b[0m\u001b[0;34m)\u001b[0m\u001b[0;34m\u001b[0m\u001b[0;34m\u001b[0m\u001b[0m\n",
            "\u001b[0;31mNameError\u001b[0m: name 'X_train' is not defined"
          ]
        }
      ],
      "source": [
        "# SVR(kernel=\"rbf\")\n",
        "#SVR(kernel=\"rbf\") Support Vector Classification \n",
        "\n",
        "# 1\n",
        "from sklearn.svm import SVR\n",
        "# 2\n",
        "model = SVR(kernel=\"rbf\")\n",
        "\n",
        "#4\n",
        "model.fit(X_train, y_train)\n",
        "#5 \n",
        "y_pred = model.predict(X_test)\n",
        "\n",
        "# Regression metrics\n",
        "\n",
        "# Mean squared error regression loss.\n",
        "from sklearn.metrics import mean_squared_error\n",
        "print(\"mean squared error:\",mean_squared_error(y_test, y_pred))\n",
        "\n",
        "# R2 (coefficient of determination) regression score function.\n",
        "from sklearn.metrics import r2_score\n",
        "print(\"r2 score:\",r2_score(y_test, y_pred))"
      ]
    },
    {
      "cell_type": "code",
      "execution_count": null,
      "metadata": {
        "colab": {
          "background_save": true
        },
        "id": "ANxEIlSwvFUG"
      },
      "outputs": [],
      "source": [
        "#AdaBoostRegressor\n",
        "# 1\n",
        "from sklearn.ensemble import AdaBoostRegressor\n",
        "# 2\n",
        "model = AdaBoostRegressor(random_state=0, n_estimators=100)\n",
        "\n",
        "#4\n",
        "model.fit(X_train, y_train)\n",
        "#5 \n",
        "y_pred = model.predict(X_test)\n",
        "\n",
        "# Regression metrics\n",
        "\n",
        "# Mean squared error regression loss.\n",
        "print(\"mean squared error:\",mean_squared_error(y_test, y_pred))\n",
        "\n",
        "# R2 (coefficient of determination) regression score function.\n",
        "\n",
        "print(\"r2 score:\",r2_score(y_test, y_pred))"
      ]
    },
    {
      "cell_type": "code",
      "execution_count": null,
      "metadata": {
        "colab": {
          "background_save": true
        },
        "id": "Tv8QS7ZRvHLv"
      },
      "outputs": [],
      "source": [
        "#ExtraTreesRegressor\n",
        "\n",
        "# 1\n",
        "from sklearn.ensemble import ExtraTreesRegressor\n",
        "# 2\n",
        "model = ExtraTreesRegressor()\n",
        "\n",
        "#4\n",
        "model.fit(X_train, y_train)\n",
        "#5 \n",
        "y_pred = model.predict(X_test)\n",
        "\n",
        "# Regression metrics\n",
        "\n",
        "# Mean squared error regression loss.\n",
        "print(\"mean squared error:\",mean_squared_error(y_test, y_pred))\n",
        "\n",
        "# R2 (coefficient of determination) regression score function.\n",
        "\n",
        "print(\"r2 score:\",r2_score(y_test, y_pred))"
      ]
    },
    {
      "cell_type": "code",
      "execution_count": null,
      "metadata": {
        "colab": {
          "background_save": true
        },
        "id": "sZESeMb0vIeX"
      },
      "outputs": [],
      "source": [
        "#GradientBoostingRegressor\n",
        "\n",
        "# 1\n",
        "from sklearn.ensemble import GradientBoostingRegressor\n",
        "# 2\n",
        "model = GradientBoostingRegressor()\n",
        "\n",
        "#4\n",
        "model.fit(X_train, y_train)\n",
        "#5 \n",
        "y_pred = model.predict(X_test)\n",
        "\n",
        "# Regression metrics\n",
        "\n",
        "# Mean squared error regression loss.\n",
        "print(\"mean squared error:\",mean_squared_error(y_test, y_pred))\n",
        "\n",
        "# R2 (coefficient of determination) regression score function.\n",
        "\n",
        "print(\"r2 score:\",r2_score(y_test, y_pred))"
      ]
    },
    {
      "cell_type": "code",
      "execution_count": null,
      "metadata": {
        "colab": {
          "background_save": true
        },
        "id": "_aJPVgTqvKBC"
      },
      "outputs": [],
      "source": [
        "#RandomForestRegressor\n",
        "\n",
        "# 1\n",
        "from sklearn.ensemble import RandomForestRegressor\n",
        "# 2\n",
        "model = RandomForestRegressor()\n",
        "\n",
        "#4\n",
        "model.fit(X_train, y_train)\n",
        "#5 \n",
        "y_pred = model.predict(X_test)\n",
        "\n",
        "# Regression metrics\n",
        "\n",
        "# Mean squared error regression loss.\n",
        "print(\"mean squared error:\",mean_squared_error(y_test, y_pred))\n",
        "\n",
        "# R2 (coefficient of determination) regression score function.\n",
        "\n",
        "print(\"r2 score:\",r2_score(y_test, y_pred))"
      ]
    },
    {
      "cell_type": "code",
      "execution_count": null,
      "metadata": {
        "colab": {
          "background_save": true
        },
        "id": "GACGHiZ7vLN6"
      },
      "outputs": [],
      "source": [
        "#HistGradientBoostingRegressor\n",
        "\n",
        "# 1\n",
        "from sklearn.ensemble import HistGradientBoostingRegressor\n",
        "# 2\n",
        "model = HistGradientBoostingRegressor()\n",
        "\n",
        "#4\n",
        "model.fit(X_train, y_train)\n",
        "#5 \n",
        "y_pred = model.predict(X_test)\n",
        "\n",
        "# Regression metrics\n",
        "\n",
        "# Mean squared error regression loss.\n",
        "print(\"mean squared error:\",mean_squared_error(y_test, y_pred))\n",
        "\n",
        "# R2 (coefficient of determination) regression score function.\n",
        "\n",
        "print(\"r2 score:\",r2_score(y_test, y_pred))"
      ]
    },
    {
      "cell_type": "code",
      "execution_count": null,
      "metadata": {
        "colab": {
          "background_save": true
        },
        "id": "o0sYD79XvMa5"
      },
      "outputs": [],
      "source": [
        "#AdaBoostRegressor\n",
        "\n",
        "# 1\n",
        "from sklearn.ensemble import AdaBoostRegressor\n",
        "# 2\n",
        "model = AdaBoostRegressor()\n",
        "\n",
        "#4\n",
        "model.fit(X_train, y_train)\n",
        "#5 \n",
        "y_pred = model.predict(X_test)\n",
        "\n",
        "# Regression metrics\n",
        "\n",
        "# Mean squared error regression loss.\n",
        "print(\"mean squared error:\",mean_squared_error(y_test, y_pred))\n",
        "\n",
        "# R2 (coefficient of determination) regression score function.\n",
        "\n",
        "print(\"r2 score:\",r2_score(y_test, y_pred))"
      ]
    },
    {
      "cell_type": "code",
      "execution_count": null,
      "metadata": {
        "colab": {
          "base_uri": "https://localhost:8080/"
        },
        "id": "9GgoC5gnvNlj",
        "outputId": "1d2276bc-85c3-4fe8-e8b4-4895da87dcdc"
      },
      "outputs": [
        {
          "name": "stdout",
          "output_type": "stream",
          "text": [
            "Iteration 1, loss = 32598214642.61229324\n",
            "Iteration 2, loss = 32347551171.39295578\n",
            "Iteration 3, loss = 31411227924.83602905\n",
            "Iteration 4, loss = 29478954442.94118881\n",
            "Iteration 5, loss = 26492204043.48918533\n",
            "Iteration 6, loss = 22712221829.15970230\n",
            "Iteration 7, loss = 18594091154.82548523\n",
            "Iteration 8, loss = 14683064829.62207603\n",
            "Iteration 9, loss = 11438764062.25436592\n",
            "Iteration 10, loss = 9034282203.30678940\n",
            "Iteration 11, loss = 7377469673.59889889\n",
            "Iteration 12, loss = 6230859890.17489529\n",
            "Iteration 13, loss = 5382091427.55649853\n",
            "Iteration 14, loss = 4706113434.86287403\n",
            "Iteration 15, loss = 4143301385.98370171\n",
            "Iteration 16, loss = 3674235846.02755070\n",
            "Iteration 17, loss = 3286754323.99911213\n",
            "Iteration 18, loss = 2976033150.65553761\n",
            "Iteration 19, loss = 2735078506.31131077\n",
            "Iteration 20, loss = 2552805010.55746078\n",
            "Iteration 21, loss = 2418605214.40547228\n",
            "Iteration 22, loss = 2319695695.23490286\n",
            "Iteration 23, loss = 2246681133.44279575\n",
            "Iteration 24, loss = 2191379758.71195793\n",
            "Iteration 25, loss = 2147327741.94423413\n",
            "Iteration 26, loss = 2110900859.73730516\n",
            "Iteration 27, loss = 2080277043.31683350\n",
            "Iteration 28, loss = 2052551908.41412902\n",
            "Iteration 29, loss = 2027509919.96507573\n",
            "Iteration 30, loss = 2004254974.88106227\n",
            "Iteration 31, loss = 1982163887.00205183\n",
            "Iteration 32, loss = 1961669827.83898258\n",
            "Iteration 33, loss = 1941795991.83475924\n",
            "Iteration 34, loss = 1923060427.59908366\n",
            "Iteration 35, loss = 1904947052.23543262\n",
            "Iteration 36, loss = 1887851981.73668003\n",
            "Iteration 37, loss = 1871352045.90062141\n",
            "Iteration 38, loss = 1855663744.98057222\n",
            "Iteration 39, loss = 1840444923.18792510\n",
            "Iteration 40, loss = 1825575220.21316767\n",
            "Iteration 41, loss = 1811567623.20532513\n",
            "Iteration 42, loss = 1797614686.36667538\n",
            "Iteration 43, loss = 1784453518.33439803\n",
            "Iteration 44, loss = 1771930890.15350866\n",
            "Iteration 45, loss = 1759399885.73653412\n",
            "Iteration 46, loss = 1747423672.14491773\n",
            "Iteration 47, loss = 1736310718.80311203\n",
            "Iteration 48, loss = 1724268203.85181928\n",
            "Iteration 49, loss = 1713887944.54473495\n",
            "Iteration 50, loss = 1703264579.74417138\n",
            "Iteration 51, loss = 1693133075.63349938\n",
            "Iteration 52, loss = 1682565086.78767824\n",
            "Iteration 53, loss = 1672857396.58276033\n",
            "Iteration 54, loss = 1663058900.40821695\n",
            "Iteration 55, loss = 1653554273.63688946\n",
            "Iteration 56, loss = 1645130435.00262761\n",
            "Iteration 57, loss = 1635602494.73015094\n",
            "Iteration 58, loss = 1627753337.05434990\n",
            "Iteration 59, loss = 1618935252.61900973\n",
            "Iteration 60, loss = 1610724952.17372322\n",
            "Iteration 61, loss = 1603165473.02982664\n",
            "Iteration 62, loss = 1595194465.79733539\n",
            "Iteration 63, loss = 1587791285.88910747\n",
            "Iteration 64, loss = 1580423603.96627474\n",
            "Iteration 65, loss = 1573218282.04570842\n",
            "Iteration 66, loss = 1566483293.33708405\n",
            "Iteration 67, loss = 1559302403.38660479\n",
            "Iteration 68, loss = 1552913290.16003132\n",
            "Iteration 69, loss = 1546853568.41363859\n",
            "Iteration 70, loss = 1540709043.34001231\n",
            "Iteration 71, loss = 1534837971.70113301\n",
            "Iteration 72, loss = 1528570885.69840288\n",
            "Iteration 73, loss = 1522991257.65377212\n",
            "Iteration 74, loss = 1517369688.40073991\n",
            "Iteration 75, loss = 1512428856.43685675\n",
            "Iteration 76, loss = 1506946996.96441936\n",
            "Iteration 77, loss = 1502021948.40023685\n",
            "Iteration 78, loss = 1497448424.78009057\n",
            "Iteration 79, loss = 1492316280.35123587\n",
            "Iteration 80, loss = 1487879030.14677763\n",
            "Iteration 81, loss = 1483388524.83378267\n",
            "Iteration 82, loss = 1479163428.03095198\n",
            "Iteration 83, loss = 1474868920.26260734\n",
            "Iteration 84, loss = 1470640381.16661382\n",
            "Iteration 85, loss = 1466885776.87849760\n",
            "Iteration 86, loss = 1463139088.62528086\n",
            "Iteration 87, loss = 1459250336.93464375\n",
            "Iteration 88, loss = 1455881230.00286198\n",
            "Iteration 89, loss = 1451991942.02723169\n",
            "Iteration 90, loss = 1448790423.34258699\n",
            "Iteration 91, loss = 1445309308.18167877\n",
            "Iteration 92, loss = 1442371757.23260474\n",
            "Iteration 93, loss = 1439905348.11063933\n",
            "Iteration 94, loss = 1436705161.67175126\n",
            "Iteration 95, loss = 1433751129.22769880\n",
            "Iteration 96, loss = 1432157517.27465606\n",
            "Iteration 97, loss = 1429342720.09088302\n",
            "Iteration 98, loss = 1426836716.88125300\n",
            "Iteration 99, loss = 1424406034.88997960\n",
            "Iteration 100, loss = 1422478594.74756670\n",
            "Iteration 101, loss = 1420282976.11729860\n",
            "Iteration 102, loss = 1418011483.07300973\n",
            "Iteration 103, loss = 1415767667.21159649\n",
            "Iteration 104, loss = 1413643391.11863256\n",
            "Iteration 105, loss = 1411348218.43698883\n",
            "Iteration 106, loss = 1409415980.23321271\n",
            "Iteration 107, loss = 1407424651.31920958\n",
            "Iteration 108, loss = 1405970701.17983985\n",
            "Iteration 109, loss = 1403473834.08578730\n",
            "Iteration 110, loss = 1402078093.49453378\n",
            "Iteration 111, loss = 1400232138.43553329\n",
            "Iteration 112, loss = 1398746959.16371870\n",
            "Iteration 113, loss = 1397161495.47557402\n",
            "Iteration 114, loss = 1395363518.83476710\n",
            "Iteration 115, loss = 1393792610.59830856\n",
            "Iteration 116, loss = 1392388094.34929419\n",
            "Iteration 117, loss = 1391069575.04235530\n",
            "Iteration 118, loss = 1389809439.75762296\n",
            "Iteration 119, loss = 1388557974.86208963\n",
            "Iteration 120, loss = 1387053392.34890199\n",
            "Iteration 121, loss = 1385697508.07641006\n",
            "Iteration 122, loss = 1384820757.69207311\n",
            "Iteration 123, loss = 1383414018.16394615\n",
            "Iteration 124, loss = 1382502023.12497878\n",
            "Iteration 125, loss = 1381334604.51184464\n",
            "Iteration 126, loss = 1380588364.00463009\n",
            "Iteration 127, loss = 1379320922.14144015\n",
            "Iteration 128, loss = 1378178604.02716041\n",
            "Iteration 129, loss = 1377280813.99400854\n",
            "Iteration 130, loss = 1375970748.48195100\n",
            "Iteration 131, loss = 1375539893.38790250\n",
            "Iteration 132, loss = 1374608154.12026930\n",
            "Iteration 133, loss = 1373893705.37240791\n",
            "Iteration 134, loss = 1372719154.23296309\n",
            "Iteration 135, loss = 1371905438.40558672\n",
            "Iteration 136, loss = 1371605042.35150242\n",
            "Iteration 137, loss = 1370277567.42705798\n",
            "Iteration 138, loss = 1369316235.67692924\n",
            "Iteration 139, loss = 1368613768.41081071\n",
            "Iteration 140, loss = 1367916738.39682484\n",
            "Iteration 141, loss = 1367907509.89087844\n",
            "Iteration 142, loss = 1366702764.18115211\n",
            "Iteration 143, loss = 1366194237.64597058\n",
            "Iteration 144, loss = 1365391485.31443357\n",
            "Iteration 145, loss = 1364884315.14614081\n",
            "Iteration 146, loss = 1364276220.61617732\n",
            "Iteration 147, loss = 1363608251.23334503\n",
            "Iteration 148, loss = 1363188549.90409732\n",
            "Iteration 149, loss = 1362054464.45829153\n",
            "Iteration 150, loss = 1362118256.82731676\n",
            "Iteration 151, loss = 1361606176.23351526\n",
            "Iteration 152, loss = 1360451197.01364946\n",
            "Iteration 153, loss = 1360119493.40743923\n",
            "Iteration 154, loss = 1359867633.39819241\n",
            "Iteration 155, loss = 1358929426.85216212\n",
            "Iteration 156, loss = 1358512575.72430348\n",
            "Iteration 157, loss = 1358270684.91820192\n",
            "Iteration 158, loss = 1357566547.11987758\n",
            "Iteration 159, loss = 1356905764.92621136\n",
            "Iteration 160, loss = 1356524817.49934912\n",
            "Iteration 161, loss = 1356046696.63511610\n",
            "Iteration 162, loss = 1355746587.87889671\n",
            "Iteration 163, loss = 1355046643.07426858\n",
            "Iteration 164, loss = 1354883051.14943266\n",
            "Iteration 165, loss = 1354245132.64524412\n",
            "Iteration 166, loss = 1354001698.15071702\n",
            "Iteration 167, loss = 1353396082.86967278\n",
            "Iteration 168, loss = 1352882501.01109552\n",
            "Iteration 169, loss = 1352499665.00244713\n",
            "Iteration 170, loss = 1352350486.63474965\n",
            "Iteration 171, loss = 1351614069.47836137\n",
            "Iteration 172, loss = 1350982488.66947341\n",
            "Iteration 173, loss = 1350606747.07189894\n",
            "Iteration 174, loss = 1350012945.15852451\n",
            "Iteration 175, loss = 1349731406.43330741\n",
            "Iteration 176, loss = 1349566237.15226436\n",
            "Iteration 177, loss = 1349080748.90391946\n",
            "Iteration 178, loss = 1348337925.88212276\n",
            "Iteration 179, loss = 1348089201.95828032\n",
            "Iteration 180, loss = 1347658634.28784227\n",
            "Iteration 181, loss = 1347910455.69581342\n",
            "Iteration 182, loss = 1347197804.61305761\n",
            "Iteration 183, loss = 1346302899.78616190\n",
            "Iteration 184, loss = 1345810096.16112828\n",
            "Iteration 185, loss = 1345479500.06771612\n",
            "Iteration 186, loss = 1345263980.49579763\n",
            "Iteration 187, loss = 1344712096.86737275\n",
            "Iteration 188, loss = 1344497010.57027912\n",
            "Iteration 189, loss = 1343819103.45606780\n",
            "Iteration 190, loss = 1343385242.70309019\n",
            "Iteration 191, loss = 1343012951.99130917\n",
            "Iteration 192, loss = 1342690993.99869251\n",
            "Iteration 193, loss = 1342568848.92768431\n",
            "Iteration 194, loss = 1341894923.36386967\n",
            "Iteration 195, loss = 1341247895.22796965\n",
            "Iteration 196, loss = 1340758980.06233406\n",
            "Iteration 197, loss = 1340409668.87256718\n",
            "Iteration 198, loss = 1339750001.67873883\n",
            "Iteration 199, loss = 1339597995.22661090\n",
            "Iteration 200, loss = 1339109698.32338881\n",
            "mean squared error: 4440408229.137505\n",
            "r2 score: 0.7827814482118614\n"
          ]
        },
        {
          "name": "stderr",
          "output_type": "stream",
          "text": [
            "/usr/local/lib/python3.9/dist-packages/sklearn/neural_network/_multilayer_perceptron.py:686: ConvergenceWarning: Stochastic Optimizer: Maximum iterations (200) reached and the optimization hasn't converged yet.\n",
            "  warnings.warn(\n"
          ]
        }
      ],
      "source": [
        "#MLPRegressor\n",
        "\n",
        "# 1\n",
        "from sklearn.neural_network import MLPRegressor\n",
        "# 2\n",
        "model = MLPRegressor(hidden_layer_sizes=(45,45),verbose=True,max_iter=200,)\n",
        "\n",
        "#4\n",
        "model.fit(X_train, y_train)\n",
        "#5 \n",
        "y_pred = model.predict(X_test)\n",
        "\n",
        "# Regression metrics\n",
        "\n",
        "# Mean squared error regression loss.\n",
        "print(\"mean squared error:\",mean_squared_error(y_test, y_pred))\n",
        "\n",
        "# R2 (coefficient of determination) regression score function.\n",
        "\n",
        "print(\"r2 score:\",r2_score(y_test, y_pred))"
      ]
    }
  ],
  "metadata": {
    "colab": {
      "provenance": [],
      "include_colab_link": true
    },
    "kernelspec": {
      "display_name": "Python 3",
      "name": "python3"
    },
    "language_info": {
      "name": "python"
    }
  },
  "nbformat": 4,
  "nbformat_minor": 0
}